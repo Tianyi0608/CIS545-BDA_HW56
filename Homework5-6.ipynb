{
 "cells": [
  {
   "cell_type": "markdown",
   "metadata": {},
   "source": [
    "Before you turn this problem in, make sure everything runs as expected. First, **restart the kernel** (in the menubar, select Kernel$\\rightarrow$Restart) and then **run all cells** (in the menubar, select Cell$\\rightarrow$Run All).\n",
    "\n",
    "Make sure you fill in any place that says `YOUR CODE HERE` or \"YOUR ANSWER HERE\", as well as your name and collaborators below:"
   ]
  },
  {
   "cell_type": "code",
   "execution_count": 79,
   "metadata": {},
   "outputs": [],
   "source": [
    "NAME = \"Tianyi Zhang\"\n",
    "COLLABORATORS = \"\""
   ]
  },
  {
   "cell_type": "markdown",
   "metadata": {},
   "source": [
    "---"
   ]
  },
  {
   "cell_type": "markdown",
   "metadata": {
    "deletable": false,
    "editable": false,
    "nbgrader": {
     "checksum": "c0307ee75db0cf4d3c2fc0e28909dac4",
     "grade": false,
     "grade_id": "title",
     "locked": true,
     "schema_version": 1,
     "solution": false
    }
   },
   "source": [
    "# CIS 545 Homework 5 and 6: Amazon Review Analysis and Classification\n",
    "\n",
    "Your main training set for this assignment is the text from 100,000 reviews from Amazon.com, their timestamps, and their star ratings. The high level goal of this homework is to use the textual and temporal data to predict the star ratings.\n",
    "\n",
    "**Adventurers beware!** Analyzing this data in `sklearn` will likely kill your kernel. So instead we will use the package [gensim](https://radimrehurek.com/gensim/) for analysis. gensim specializes in efficient implementations of common modeling techniques for big text."
   ]
  },
  {
   "cell_type": "raw",
   "metadata": {},
   "source": [
    "# install stuff\n",
    "!pip install gensim\n",
    "!pip install paramiko"
   ]
  },
  {
   "cell_type": "code",
   "execution_count": 80,
   "metadata": {},
   "outputs": [],
   "source": [
    "# import stuff\n",
    "import numpy as np\n",
    "import pandas as pd\n",
    "import matplotlib.pyplot as plt\n",
    "from gensim import corpora\n",
    "from gensim.models import LsiModel, KeyedVectors\n",
    "import sklearn.model_selection as ms\n",
    "from sklearn.ensemble import RandomForestClassifier\n",
    "from datetime import *"
   ]
  },
  {
   "cell_type": "code",
   "execution_count": 81,
   "metadata": {},
   "outputs": [],
   "source": [
    "# read stuff\n",
    "reviews_dict = corpora.Dictionary.load(\"reviews.dict\")\n",
    "reviews_bow = corpora.MmCorpus('train_reviews.mm')\n",
    "reviews_times  = np.load('train_times.npy')\n",
    "reviews_times.shape = (len(reviews_bow),1)\n",
    "reviews_wc = corpora.MmCorpus('reviews_wc.mm')\n",
    "reviews_sppmi_300 = np.load('reviews_sppmi_300.npy')\n",
    "reviews_wv = KeyedVectors.load(\"word_vectors.wv\", mmap='r')\n",
    "y = np.vstack((np.repeat(1, 4000), np.repeat(2, 4000), np.repeat(3, 4000), np.repeat(4, 4000), np.repeat(5, 4000)))\n",
    "y = np.repeat(y, 5)"
   ]
  },
  {
   "cell_type": "markdown",
   "metadata": {
    "deletable": false,
    "editable": false,
    "nbgrader": {
     "checksum": "a23a9a0c711f4448f64597a9ff3a5053",
     "grade": false,
     "grade_id": "dictionary_spec",
     "locked": true,
     "schema_version": 1,
     "solution": false
    }
   },
   "source": [
    "## Step 0: Format Exploring\n",
    "\n",
    "We will start with exploring the format of all of the data files that we imported above. \n",
    "\n",
    "### Step 0.1: gensim dictionary (lexicon)\n",
    "\n",
    "Most data science over text has some form of vocabulary. Simply put, you need to decide which words your model will care about. Very rare words, misspellings, numbers, and urls are good candidates for exclusion, especially since if the model needs any form of normalization, the time complexity of such computations is at least linear in the size of the vocabulary, if not worse.\n",
    "\n",
    "A lexicon associates each word in the vocabulary with an index. Since words are repeated, the model can save space by using the index for every repetition and only linking the index with the string form once. A `gensim` dictionary is special in that it is very fast and allows bidirectional lookups, namely, word to index and index to word.\n",
    "\n",
    "After reviewing the [documentation](https://radimrehurek.com/gensim/corpora/dictionary.html), rewrite the right hand side of each line in the cell below with the answers to these questions.\n",
    "\n",
    "1. What is the index of \"good\"? Look it up and store it in a variable named `good`. To clarify, if you find that 42 is the index of \"good\", change the line below so that it sets `good` equal to 42. Of course, you can do this with `good = 42` and earn full points, but it is a litte better to reuse the command with which you found the index. For example, if the `gensim` dictionary worked like a list of strings, you could do it with  \n",
    "`good = reviews_dict.iloc('good')`.\n",
    "2. What word belongs to index 195? Look it up and store it in a variable named `oneninefive`.\n",
    "3. What happens when you evaluate `reviews_dict[i]` for some variable `i`? If this returns the word associated with that index, set `idx2word` to `True`. Otherwise, set it to `False`. For example, if `reviews_dict['good']` equals `good`, `idx2word` should be `False`, but if `reviews_dict[195]` equals `oneninefive`, `idx2word` should be `True`.\n",
    "\n",
    "Hint: `token2id('good')` and `id2token(195)` didn't work for me either. Keep trying!"
   ]
  },
  {
   "cell_type": "raw",
   "metadata": {},
   "source": [
    "def get_keys(dct,value):\n",
    "    for k,v in dct.items():\n",
    "        if v==value:\n",
    "            return k \n",
    "good = get_keys(reviews_dict,'good')"
   ]
  },
  {
   "cell_type": "raw",
   "metadata": {},
   "source": [
    "#方法说明\n",
    "reviews_dict.token2id['good']#用token检索id\n",
    "reviews_dict.id2token[19]#用id检索token"
   ]
  },
  {
   "cell_type": "code",
   "execution_count": 82,
   "metadata": {
    "deletable": false,
    "nbgrader": {
     "checksum": "73ea04c9b49f909d2df7f3b377f9a75d",
     "grade": false,
     "grade_id": "dictionary_answer",
     "locked": false,
     "schema_version": 1,
     "solution": true
    }
   },
   "outputs": [],
   "source": [
    "# dictionary_answer\n",
    "good = reviews_dict.token2id['good']\n",
    "oneninefive = reviews_dict[195]\n",
    "idx2word = True"
   ]
  },
  {
   "cell_type": "code",
   "execution_count": 83,
   "metadata": {
    "deletable": false,
    "editable": false,
    "nbgrader": {
     "checksum": "b2bf4521d366ef89b1baec5386fa14c3",
     "grade": true,
     "grade_id": "dictionary_test_1",
     "locked": true,
     "points": 5,
     "schema_version": 1,
     "solution": false
    }
   },
   "outputs": [
    {
     "name": "stdout",
     "output_type": "stream",
     "text": [
      "The index of good is 19\n"
     ]
    }
   ],
   "source": [
    "# dictionary_test_1 (5 points)\n",
    "print(\"The index of good is\", good)"
   ]
  },
  {
   "cell_type": "code",
   "execution_count": 84,
   "metadata": {
    "deletable": false,
    "editable": false,
    "nbgrader": {
     "checksum": "e90358716fc6d2c8131a110b88f763ef",
     "grade": true,
     "grade_id": "dictionary_test_2",
     "locked": true,
     "points": 3,
     "schema_version": 1,
     "solution": false
    }
   },
   "outputs": [
    {
     "name": "stdout",
     "output_type": "stream",
     "text": [
      "Word 195 is brass\n"
     ]
    }
   ],
   "source": [
    "# dictionary_test_2 (3 points)\n",
    "print(\"Word 195 is\", oneninefive)"
   ]
  },
  {
   "cell_type": "code",
   "execution_count": 85,
   "metadata": {
    "deletable": false,
    "editable": false,
    "nbgrader": {
     "checksum": "aeef76084a9408be0cd5d81e754a0da8",
     "grade": true,
     "grade_id": "dictionary_test_3",
     "locked": true,
     "points": 2,
     "schema_version": 1,
     "solution": false
    }
   },
   "outputs": [
    {
     "name": "stdout",
     "output_type": "stream",
     "text": [
      "It is True that brackets can look up a word by its index.\n"
     ]
    }
   ],
   "source": [
    "# dictionary_test_3 (2 points)\n",
    "print(\"It is\", idx2word, \"that brackets can look up a word by its index.\")"
   ]
  },
  {
   "cell_type": "markdown",
   "metadata": {
    "deletable": false,
    "editable": false,
    "nbgrader": {
     "checksum": "31ccdc3f20979a61e331e48f3b31519e",
     "grade": false,
     "grade_id": "readable_spec",
     "locked": true,
     "schema_version": 1,
     "solution": false
    }
   },
   "source": [
    "### Step 0.2: Efficiently storing text\n",
    "\n",
    "`gensim` represents everything in a **sparse** way. Namely, the representation of a review will be a variable-size list that contains counts of the words that _are present_ in the review. A **dense** representation, on the other hand, such as a matrix, would, in addition to the present words, contain zero counts for all of the words that are not in that particular review. For some examples, see [this tutorial](https://radimrehurek.com/gensim/tut1.html).\n",
    "\n",
    "You may run the cell below as it is to see what is actually stored in a gensim [corpus](https://radimrehurek.com/gensim/corpora/mmcorpus.html). In each review, `gensim` stores a tuple of size 2 for each distinct word in the review. The first number in the tuple is the index of the word in the dictionary and the second number in the tuple is the count of the times that word appeared in that review.\n",
    "\n",
    "Now, we would like you to add a bit of code to the cell below that \"translates\" the first two amazon reviews into something more readable. The reviews are already represented as bags of words, so recall that you cannot recover the order of the words in the reviews. Rather, the words are in alphabetical order. But, we would like you to spell out the repeats of each word. So, if the original review were \"to be or not to be\", `reviews_bow` would have something like:\n",
    "\n",
    "`[(0, 2.0), (1, 1.0), (2, 1.0), (3, 2.0)]`\n",
    "\n",
    "and we would like you to make the string\n",
    "\n",
    "`\"be be not or to to\"`\n",
    "\n",
    "When you are done, `readable_reviews[0]` should be the first review and `readable_reviews[1]` should be the second.\n",
    "\n",
    "Hint: In a normal array, you would be able to access the first two reviews with the indices 0 and 1, but this is not a normal array. Therefore, we have started an iteration through the documents and put a break the loop when `i` reaches a value strictly greater than 1. "
   ]
  },
  {
   "cell_type": "raw",
   "metadata": {},
   "source": [
    "documents = ['I am a girl',\n",
    "            'I am a boy']\n",
    "texts = [[word for word in doc.split()]for doc in documents]#documents格式清洗\n",
    "dictionary_test = corpora.Dictionary(texts)#把documents打包成每个word并编码\n",
    "# dictionary_test\n",
    "dictionary_test.token2id #{'I': 0, 'a': 1, 'am': 2, 'girl': 3, 'boy': 4}\n",
    "\n",
    "#.doc2bow（） 按照点之前的编码样式对（）里的内容进行编码统计\n",
    "corpus = [dictionary_test.doc2bow('I am'.split())] #[[(0, 1), (2, 1)]]\n",
    "corpus = [dictionary_test.doc2bow(text) for text in texts] #[[(0, 1), (1, 1), (2, 1), (3, 1)], [(0, 1), (1, 1), (2, 1), (4, 1)]]\n",
    "# corpus = [dictionary_test.doc2bow(texts_)] 输入必须是一个字符串list，不能是list套list\n",
    "corpus"
   ]
  },
  {
   "cell_type": "code",
   "execution_count": 86,
   "metadata": {
    "deletable": false,
    "nbgrader": {
     "checksum": "d32969a58d55b387599152ad39b8faea",
     "grade": false,
     "grade_id": "readable_answer",
     "locked": false,
     "schema_version": 1,
     "solution": true
    }
   },
   "outputs": [],
   "source": [
    "# readable_answer\n",
    "i = 0\n",
    "readable_reviews = []\n",
    "for doc in reviews_bow:\n",
    "    if i > 1: break\n",
    "#     print(doc)\n",
    "    readable_reviews.append([])\n",
    "#     print(readable_reviews)\n",
    "    for item in doc:\n",
    "        word = reviews_dict[item[0]]\n",
    "        for j in range(int(item[1])):\n",
    "            readable_reviews[i].append(word)\n",
    "    readable_reviews[i]=' '.join(readable_reviews[i])\n",
    "    i += 1"
   ]
  },
  {
   "cell_type": "code",
   "execution_count": 87,
   "metadata": {
    "deletable": false,
    "editable": false,
    "nbgrader": {
     "checksum": "c364b5251be4c668282edd417b322521",
     "grade": true,
     "grade_id": "readable_test_1",
     "locked": true,
     "points": 5,
     "schema_version": 1,
     "solution": false
    }
   },
   "outputs": [
    {
     "name": "stdout",
     "output_type": "stream",
     "text": [
      "abl aggress also apart apart aussi away ball ball ball ball ball better cairn came certain chewer come come come design destroy destroy disappoint expos fast favorit good great hard insid just kong kong kong kong larg lb lb let littl medium medium mix money much open orka play remov roll seam short someth sorri sort squeak squeez squeez supervis terrier terrier think took tore toy tri usual wast weigh will will\n"
     ]
    }
   ],
   "source": [
    "# readable_test_1 (5 points)\n",
    "print(readable_reviews[0])"
   ]
  },
  {
   "cell_type": "code",
   "execution_count": 88,
   "metadata": {
    "deletable": false,
    "editable": false,
    "nbgrader": {
     "checksum": "01cb0f0e85a086aced96d7423cf42b7f",
     "grade": true,
     "grade_id": "readable_test_2",
     "locked": true,
     "points": 5,
     "schema_version": 1,
     "solution": false
    }
   },
   "outputs": [
    {
     "name": "stdout",
     "output_type": "stream",
     "text": [
      "bark bark bark clean day dish dish dog dump filter full funni heard know next normal opinion put regular replac return scari sinc sinc sore sound sound throat use water water water whether worth\n"
     ]
    }
   ],
   "source": [
    "# readable_test_2 (5 points)\n",
    "print(readable_reviews[1])"
   ]
  },
  {
   "cell_type": "markdown",
   "metadata": {
    "deletable": false,
    "editable": false,
    "nbgrader": {
     "checksum": "9fc59ba35eee3b95d947459aa67a9cd7",
     "grade": false,
     "grade_id": "datetime_spec",
     "locked": true,
     "schema_version": 1,
     "solution": false
    }
   },
   "source": [
    "### Step 0.3: Parsing review times\n",
    "\n",
    "It might be useful in predicting the scores of the reviews to know when the reviews were written. In this dataset, the day of the review was recorded as the number of seconds that passed between midnight on January 1, 1970 (the beginning of time for many computer systems) and the time the review was created. This may be efficient because it is one integer, but it is not very convenient. So we are going to convert these int objects to [datetime](https://docs.python.org/3/library/datetime.html) objects:\n",
    "\n",
    "1. Do not change `review_times` in any way. Work with other variables instead.\n",
    "1. Make a new variable named `converted_times`.\n",
    "2. Set that variable equal to a pandas `Series` object made from `review_times` but the entries should be of type `datetime` or `Timestamp`.\n",
    "\n",
    "3. Make a new variable named `forty_days_before_review_times_0`. \n",
    "4. Set that variable equal to 40 days before the time of the first review, using the `timedelta` function.\n",
    "\n",
    "Hint: You might find `datetime.fromtimestamp` to be useful."
   ]
  },
  {
   "cell_type": "raw",
   "metadata": {},
   "source": [
    "pd.to_datetime('1970-1-1')+pd.to_timedelta(reviews_times[0],unit='s')"
   ]
  },
  {
   "cell_type": "code",
   "execution_count": 89,
   "metadata": {
    "deletable": false,
    "nbgrader": {
     "checksum": "aef6457f54419450489903b519f90775",
     "grade": false,
     "grade_id": "datetime_answer",
     "locked": false,
     "schema_version": 1,
     "solution": true
    }
   },
   "outputs": [],
   "source": [
    "# datetime_answer \n",
    "converted_times = pd.Series(pd.to_datetime(timedelta,unit='s')[0] for timedelta in reviews_times)"
   ]
  },
  {
   "cell_type": "code",
   "execution_count": 90,
   "metadata": {},
   "outputs": [
    {
     "data": {
      "text/plain": [
       "pandas._libs.tslibs.timestamps.Timestamp"
      ]
     },
     "execution_count": 90,
     "metadata": {},
     "output_type": "execute_result"
    }
   ],
   "source": [
    "type(converted_times[0])"
   ]
  },
  {
   "cell_type": "code",
   "execution_count": 91,
   "metadata": {},
   "outputs": [],
   "source": [
    "forty_days_before_review_times_0 = converted_times[0]-pd.Timedelta(days=40)"
   ]
  },
  {
   "cell_type": "raw",
   "metadata": {},
   "source": [
    "forty_days_before_review_times_0 = pd.Series(time-pd.Timedelta(days=40) for time in converted_times)"
   ]
  },
  {
   "cell_type": "code",
   "execution_count": 92,
   "metadata": {},
   "outputs": [
    {
     "data": {
      "text/plain": [
       "pandas._libs.tslibs.timestamps.Timestamp"
      ]
     },
     "execution_count": 92,
     "metadata": {},
     "output_type": "execute_result"
    }
   ],
   "source": [
    "type(forty_days_before_review_times_0)"
   ]
  },
  {
   "cell_type": "code",
   "execution_count": 93,
   "metadata": {
    "deletable": false,
    "editable": false,
    "nbgrader": {
     "checksum": "aaa5bab2c56eafcde1696645a4886f74",
     "grade": true,
     "grade_id": "datetime_test_1",
     "locked": true,
     "points": 2,
     "schema_version": 1,
     "solution": false
    }
   },
   "outputs": [
    {
     "name": "stdout",
     "output_type": "stream",
     "text": [
      "converted_times is a <class 'pandas.core.series.Series'>\n"
     ]
    }
   ],
   "source": [
    "# datetime_test_1 (2 points)\n",
    "print(\"converted_times is a\", type(converted_times))"
   ]
  },
  {
   "cell_type": "code",
   "execution_count": 94,
   "metadata": {
    "deletable": false,
    "editable": false,
    "nbgrader": {
     "checksum": "1e22c3e79ac7ccb172b20c9dcbf4b141",
     "grade": true,
     "grade_id": "datetime_test_2",
     "locked": true,
     "points": 5,
     "schema_version": 1,
     "solution": false
    }
   },
   "outputs": [
    {
     "name": "stdout",
     "output_type": "stream",
     "text": [
      "converted_times[0] is a <class 'pandas._libs.tslibs.timestamps.Timestamp'>\n"
     ]
    }
   ],
   "source": [
    "# datetime_test_2 (5 points)\n",
    "print(\"converted_times[0] is a\", type(converted_times[0]))"
   ]
  },
  {
   "cell_type": "code",
   "execution_count": 95,
   "metadata": {
    "deletable": false,
    "editable": false,
    "nbgrader": {
     "checksum": "fbdb726339ad346b8f5eeb0a1597fb83",
     "grade": true,
     "grade_id": "datetime_test_3",
     "locked": true,
     "points": 3,
     "schema_version": 1,
     "solution": false
    }
   },
   "outputs": [
    {
     "data": {
      "text/plain": [
       "Timestamp('2012-05-06 00:00:00')"
      ]
     },
     "metadata": {},
     "output_type": "display_data"
    },
    {
     "data": {
      "text/plain": [
       "Timestamp('2012-03-27 00:00:00')"
      ]
     },
     "metadata": {},
     "output_type": "display_data"
    }
   ],
   "source": [
    "# datetime_test_3 (3 points)\n",
    "display(converted_times[0])\n",
    "display(forty_days_before_review_times_0)"
   ]
  },
  {
   "cell_type": "markdown",
   "metadata": {
    "deletable": false,
    "editable": false,
    "nbgrader": {
     "checksum": "14cf022d9a18ce174aeb705830ae0130",
     "grade": false,
     "grade_id": "word_vectors_spec",
     "locked": true,
     "schema_version": 1,
     "solution": false
    }
   },
   "source": [
    "## Step 1: Word vectors\n",
    "\n",
    "We saw in class that performing several optimizations on a word-context shifted positive pointwise mutual information ($SPPMI$) matrix, including decomposing with SVD, is mathematically equivalent to a neural network that learns word embeddings using skip gram with negative sampling ($SGNS$).  We are going to implement each of these here and compare against a pure bag of words ($BOW$) model as a baseline.\n",
    "\n",
    "To begin, let's make a corpus out of our favorite toy dataset: the 5 computer science and 4 math article titles. After lower casing, tokenizing, and stop wording, the corpus looks like `titles` in the cell below. Then, we create a dictionary and a sparse document-term matrix."
   ]
  },
  {
   "cell_type": "code",
   "execution_count": 96,
   "metadata": {},
   "outputs": [
    {
     "data": {
      "text/plain": [
       "[[(0, 1), (1, 1), (2, 1)],\n",
       " [(0, 1), (3, 1), (4, 1), (5, 1), (6, 1), (7, 1)],\n",
       " [(2, 1), (5, 1), (7, 1), (8, 1)],\n",
       " [(1, 1), (5, 2), (8, 1)],\n",
       " [(3, 1), (6, 1), (7, 1)],\n",
       " [(9, 1)],\n",
       " [(9, 1), (10, 1)],\n",
       " [(9, 1), (10, 1), (11, 1)],\n",
       " [(4, 1), (10, 1), (11, 1)]]"
      ]
     },
     "metadata": {},
     "output_type": "display_data"
    }
   ],
   "source": [
    "titles = [['human', 'interface', 'computer'],\n",
    "          ['survey', 'user', 'computer', 'system', 'response', 'time'],\n",
    "          ['eps', 'user', 'interface', 'system'],\n",
    "          ['system', 'human', 'system', 'eps'],\n",
    "          ['user', 'response', 'time'],\n",
    "          ['trees'],\n",
    "          ['graph', 'trees'],\n",
    "          ['graph', 'minors', 'trees'],\n",
    "          ['graph', 'minors', 'survey']] #9 titles\n",
    "\n",
    "titles_dict = corpora.Dictionary(titles)\n",
    "titles_bow = [titles_dict.doc2bow(title) for title in titles]\n",
    "display(titles_bow)"
   ]
  },
  {
   "cell_type": "markdown",
   "metadata": {
    "deletable": false,
    "editable": false,
    "nbgrader": {
     "checksum": "8bb87b98a3665ecc73a96075e6f93740",
     "grade": false,
     "grade_id": "densify_spec",
     "locked": true,
     "schema_version": 1,
     "solution": false
    }
   },
   "source": [
    "### Step 1.1: Sparse to dense\n",
    "\n",
    "To get the term-document matrix that we have seen in lecture, we need to convert this matrix to its dense form. Write a function `densify` that takes as input:\n",
    "\n",
    "1. a sparse matrix in the format of `titles_bow` above\n",
    "3. an integer number of columns\n",
    "\n",
    "and returns a NumPy array. Note that `titles_bow` is a document-term matrix, not a term-document matrix, so we transpose it in the test cell to show the matrix from lecture (with the rows and columns slightly reordered)."
   ]
  },
  {
   "cell_type": "raw",
   "metadata": {},
   "source": [
    "wd=set()\n",
    "for i in titles:\n",
    "    for j in i:\n",
    "        wd.add(j)\n",
    "len(wd)"
   ]
  },
  {
   "cell_type": "code",
   "execution_count": 97,
   "metadata": {
    "deletable": false,
    "nbgrader": {
     "checksum": "7db7411994cdd5df9d865e0c8dedd05b",
     "grade": false,
     "grade_id": "densify_answer",
     "locked": false,
     "schema_version": 1,
     "solution": true
    }
   },
   "outputs": [],
   "source": [
    "# densify_answer\n",
    "def densify(sparse, columns):\n",
    "    term_docum_matrix=np.zeros([len(sparse),columns])#.astype(int)\n",
    "    i=0\n",
    "    for doc in sparse:\n",
    "        for word in doc:\n",
    "            term_docum_matrix[i][word[0]]=word[1]\n",
    "#     print(type(term_docum_matrix))\n",
    "        i+=1\n",
    "    return term_docum_matrix #已经是ndarray了\n"
   ]
  },
  {
   "cell_type": "code",
   "execution_count": 98,
   "metadata": {
    "deletable": false,
    "editable": false,
    "nbgrader": {
     "checksum": "b7036664411b854abd9a31bb174b69ac",
     "grade": true,
     "grade_id": "densify_test_1",
     "locked": true,
     "points": 5,
     "schema_version": 1,
     "solution": false
    }
   },
   "outputs": [
    {
     "name": "stdout",
     "output_type": "stream",
     "text": [
      "[[1. 1. 0. 0. 0. 0. 0. 0. 0.]\n",
      " [1. 0. 0. 1. 0. 0. 0. 0. 0.]\n",
      " [1. 0. 1. 0. 0. 0. 0. 0. 0.]\n",
      " [0. 1. 0. 0. 1. 0. 0. 0. 0.]\n",
      " [0. 1. 0. 0. 0. 0. 0. 0. 1.]\n",
      " [0. 1. 1. 2. 0. 0. 0. 0. 0.]\n",
      " [0. 1. 0. 0. 1. 0. 0. 0. 0.]\n",
      " [0. 1. 1. 0. 1. 0. 0. 0. 0.]\n",
      " [0. 0. 1. 1. 0. 0. 0. 0. 0.]\n",
      " [0. 0. 0. 0. 0. 1. 1. 1. 0.]\n",
      " [0. 0. 0. 0. 0. 0. 1. 1. 1.]\n",
      " [0. 0. 0. 0. 0. 0. 0. 1. 1.]]\n"
     ]
    }
   ],
   "source": [
    "# densify_test_1 (5 points)\n",
    "td = densify(titles_bow, len(titles_dict)).transpose()\n",
    "print(td)"
   ]
  },
  {
   "cell_type": "raw",
   "metadata": {},
   "source": [
    "print(titles_dict)"
   ]
  },
  {
   "cell_type": "code",
   "execution_count": 99,
   "metadata": {
    "deletable": false,
    "editable": false,
    "nbgrader": {
     "checksum": "f3618616ea065367a28f3b0c031128e8",
     "grade": true,
     "grade_id": "densify_test_2",
     "locked": true,
     "points": 5,
     "schema_version": 1,
     "solution": false
    }
   },
   "outputs": [
    {
     "name": "stdout",
     "output_type": "stream",
     "text": [
      "(12, 9)\n"
     ]
    }
   ],
   "source": [
    "# densify_test_2 (5 points)\n",
    "print(td.shape)"
   ]
  },
  {
   "cell_type": "markdown",
   "metadata": {
    "deletable": false,
    "editable": false,
    "nbgrader": {
     "checksum": "c70e3bebad46adfd7a6d89edc4c2cc40",
     "grade": false,
     "grade_id": "count_words_spec",
     "locked": true,
     "schema_version": 1,
     "solution": false
    }
   },
   "source": [
    "### Step 1.2: Counting words\n",
    "\n",
    "Write a function `count_words` that takes as input:\n",
    "\n",
    "1. a dictionary in the format of `titles_dict` above\n",
    "2. a bag of words corpus in the format of `titles_bow` above\n",
    "\n",
    "and returns a list called `counts` that has the total occurrences of each word in the corpus, in the order of the original word indices. Note that a gensim dictionary only counts a word once per document, so we can't directly use `titles_dict`."
   ]
  },
  {
   "cell_type": "code",
   "execution_count": 100,
   "metadata": {
    "deletable": false,
    "nbgrader": {
     "checksum": "f19fb05fa9bcdba3f8c093d1305ea708",
     "grade": false,
     "grade_id": "count_words_answer",
     "locked": false,
     "schema_version": 1,
     "solution": true
    }
   },
   "outputs": [],
   "source": [
    "# count_words_answer\n",
    "def count_words(gsdict, gsbow):\n",
    "    counts=[0]*len(gsdict)\n",
    "    for i in gsbow:\n",
    "        for j in i:\n",
    "            counts[j[0]]=counts[j[0]]+j[1]\n",
    "    return counts\n"
   ]
  },
  {
   "cell_type": "code",
   "execution_count": 101,
   "metadata": {
    "deletable": false,
    "editable": false,
    "nbgrader": {
     "checksum": "50b681fb8eacbc97e794266dca24c0a6",
     "grade": true,
     "grade_id": "count_words_test_1",
     "locked": true,
     "points": 5,
     "schema_version": 1,
     "solution": false
    }
   },
   "outputs": [
    {
     "data": {
      "text/plain": [
       "12"
      ]
     },
     "metadata": {},
     "output_type": "display_data"
    }
   ],
   "source": [
    "# count_words_test_1 (5 points)\n",
    "titles_counts = count_words(titles_dict, titles_bow)\n",
    "display(len(titles_counts))"
   ]
  },
  {
   "cell_type": "code",
   "execution_count": 102,
   "metadata": {
    "deletable": false,
    "editable": false,
    "nbgrader": {
     "checksum": "f6fe3318b20ec1d5c26be0ca6e8ce81f",
     "grade": true,
     "grade_id": "count_words_test_2",
     "locked": true,
     "points": 5,
     "schema_version": 1,
     "solution": false
    }
   },
   "outputs": [
    {
     "data": {
      "text/plain": [
       "[2, 2, 2, 2, 2, 4, 2, 3, 2, 3, 3, 2]"
      ]
     },
     "metadata": {},
     "output_type": "display_data"
    }
   ],
   "source": [
    "# count_words_test_2 (5 points)\n",
    "display(titles_counts)"
   ]
  },
  {
   "cell_type": "markdown",
   "metadata": {
    "deletable": false,
    "editable": false,
    "nbgrader": {
     "checksum": "2bdafd450ea1e9c0fe1e6f93c68cb494",
     "grade": false,
     "grade_id": "reviews_counts",
     "locked": true,
     "schema_version": 1,
     "solution": false
    }
   },
   "source": [
    "The cell below makes the counts for the 100,000 Amazon reviews."
   ]
  },
  {
   "cell_type": "code",
   "execution_count": 103,
   "metadata": {},
   "outputs": [],
   "source": [
    "reviews_counts = count_words(reviews_dict, reviews_bow)"
   ]
  },
  {
   "cell_type": "raw",
   "metadata": {},
   "source": [
    "reviews_counts #[4838.0,315.0,17822.0,2438.0,65.0,5188.0,"
   ]
  },
  {
   "cell_type": "markdown",
   "metadata": {
    "deletable": false,
    "editable": false,
    "nbgrader": {
     "checksum": "5e4fb1e8ccfe658e40d229424dda6757",
     "grade": false,
     "grade_id": "word_context_spec",
     "locked": true,
     "schema_version": 1,
     "solution": false
    }
   },
   "source": [
    "### Step 1.3: The word-context matrix\n",
    "\n",
    "Now, write a function `word_context` that takes as input:\n",
    "\n",
    "1. a dictionary in the format of `titles_dict` above\n",
    "2. a corpus in the format of `titles` above\n",
    "3. a window size (integer)\n",
    "\n",
    "and creates a **sparse** word-context matrix. Recall that the word-context matrix is a square matrix and the number of rows/columns is the number of words in the vocabulary/dictionary. A nonzero term in this matrix represents the number of times word $i$ appears within (and including) the window size distance of word $j$. The word-context matrix for this toy corpus is in the lecture slides, so you may use that to check your work.\n",
    "\n",
    "_Note: the only time a word should be in the context of itself is when it occurs with a second instance of that word, for example in the fourth \"document\" of the titles corpus._"
   ]
  },
  {
   "cell_type": "raw",
   "metadata": {
    "deletable": false,
    "nbgrader": {
     "checksum": "8eaf69fa98dd1aa8fed69222bad93ce2",
     "grade": false,
     "grade_id": "word_context_answer",
     "locked": false,
     "schema_version": 1,
     "solution": true
    }
   },
   "source": [
    "# word_context_answer\n",
    "def word_context(gsdict, gscorpus, window):\n",
    "    word_context_matrix = np.zeros([len(gsdict),len(gsdict)])\n",
    "    for doc in gscorpus:\n",
    "        for i in range(len(doc)):\n",
    "            word=doc[i]\n",
    "            for j in range(window): \n",
    "                if i+j+1<=len(doc)-1:\n",
    "                    word_context_matrix[get_keys(gsdict,word)][get_keys(gsdict,doc[i+j+1])]+=1\n",
    "                if i-(j+1)>=0:\n",
    "                    word_context_matrix[get_keys(gsdict,word)][get_keys(gsdict,doc[i-(j+1)])]+=1\n",
    "#     print(gsdict[1])\n",
    "    sparse_word_context_matrix = []\n",
    "    for i in range(len(word_context_matrix)):\n",
    "        matrix = []\n",
    "        for j in range(len(word_context_matrix[i])):\n",
    "            if word_context_matrix[i][j]!=0:\n",
    "                matrix.append((j,word_context_matrix[i][j]))\n",
    "        sparse_word_context_matrix.extend([matrix])\n",
    "#     print(np.array(sparse_word_context_matrix)[0])\n",
    "    return sparse_word_context_matrix\n"
   ]
  },
  {
   "cell_type": "code",
   "execution_count": 104,
   "metadata": {},
   "outputs": [],
   "source": [
    "from collections import Counter\n",
    "def word_context(gsdict, gscorpus, window):\n",
    "    word_context_matrix=[[]]*len(gsdict)\n",
    "#     print(word_context_matrix)\n",
    "    for doc in gscorpus:\n",
    "        for i in range(len(doc)):\n",
    "            for j in range(window): \n",
    "                if i+j+1<=len(doc)-1:\n",
    "                    word_context_matrix[gsdict.token2id[doc[i]]]=word_context_matrix[gsdict.token2id[doc[i]]]+[gsdict.token2id[doc[i+j+1]]]\n",
    "                if i-(j+1)>=0:\n",
    "                    word_context_matrix[gsdict.token2id[doc[i]]]=word_context_matrix[gsdict.token2id[doc[i]]]+[gsdict.token2id[doc[i-(j+1)]]]\n",
    "#     print(word_context_matrix)\n",
    "    return [Counter(doc).most_common(len(gsdict)) for doc in word_context_matrix]\n"
   ]
  },
  {
   "cell_type": "raw",
   "metadata": {},
   "source": [
    "#方法二 用Counter自动计数\n",
    "from collections import Counter\n",
    "def word_context(gsdict, gscorpus, window):\n",
    "    length=len(gsdict)\n",
    "    sparse_word_context_matrix=[[]]*length\n",
    "#     print(sparse)\n",
    "    for doc in gscorpus:\n",
    "#         matrix=[]\n",
    "        for i in range(len(doc)):\n",
    "            word=doc[i]\n",
    "            for j in range(i+1,min(len(doc),i+1+window)):\n",
    "                word_index_i=gsdict.doc2idx([doc[i]])[0]\n",
    "                word_index_j=gsdict.doc2idx([doc[j]])[0]\n",
    "#                 print(word_index_i,word_index_j)\n",
    "                sparse_word_context_matrix[word_index_i]=sparse_word_context_matrix[word_index_i]+[word_index_j]\n",
    "                sparse_word_context_matrix[word_index_j]=sparse_word_context_matrix[word_index_j]+[word_index_i]\n",
    "#                 print(sparse_word_context_matrix[word_index_i],sparse_word_context_matrix[word_index_j])\n",
    "#     print(sparse_word_context_matrix)\n",
    "    sparse_matrix=[]\n",
    "    for i in range(length):\n",
    "        sparse_matrix.append(Counter(sparse_word_context_matrix[i]).most_common(length))\n",
    "    return sparse_matrix\n"
   ]
  },
  {
   "cell_type": "raw",
   "metadata": {},
   "source": [
    "#titles_wc检查是否对称\n",
    "for i in range(len(titles_wc)):\n",
    "    for j in range(len(titles_wc)):\n",
    "        if titles_wc[i][j] != titles_wc[j][i]:\n",
    "            print(1)"
   ]
  },
  {
   "cell_type": "code",
   "execution_count": 105,
   "metadata": {
    "deletable": false,
    "editable": false,
    "nbgrader": {
     "checksum": "bd5ed02097252722c11df1fc685e0978",
     "grade": true,
     "grade_id": "word_context_test_1",
     "locked": true,
     "points": 5,
     "schema_version": 1,
     "solution": false
    },
    "scrolled": true
   },
   "outputs": [
    {
     "data": {
      "text/plain": [
       "[[(2, 1), (1, 1), (5, 1), (7, 1), (3, 1), (4, 1)],\n",
       " [(5, 2), (2, 1), (0, 1), (8, 1)],\n",
       " [(0, 1), (1, 1), (5, 1), (7, 1), (8, 1)],\n",
       " [(6, 2), (5, 1), (0, 1), (7, 1)],\n",
       " [(7, 1), (0, 1), (11, 1), (10, 1)],\n",
       " [(7, 2), (1, 2), (5, 2), (3, 1), (0, 1), (6, 1), (2, 1), (8, 1)],\n",
       " [(3, 2), (5, 1), (7, 1)],\n",
       " [(5, 2), (0, 1), (4, 1), (2, 1), (8, 1), (3, 1), (6, 1)],\n",
       " [(7, 1), (2, 1), (5, 1), (1, 1)],\n",
       " [(10, 2), (11, 1)],\n",
       " [(9, 2), (11, 2), (4, 1)],\n",
       " [(10, 2), (9, 1), (4, 1)]]"
      ]
     },
     "metadata": {},
     "output_type": "display_data"
    }
   ],
   "source": [
    "# word_context_test_1 (5 points)\n",
    "titles_wc = word_context(titles_dict, titles, 2)\n",
    "display(titles_wc)"
   ]
  },
  {
   "cell_type": "code",
   "execution_count": 106,
   "metadata": {
    "deletable": false,
    "editable": false,
    "nbgrader": {
     "checksum": "8bac96367ebf9cfdbcc2afa60d886871",
     "grade": true,
     "grade_id": "word_context_test_2",
     "locked": true,
     "points": 5,
     "schema_version": 1,
     "solution": false
    }
   },
   "outputs": [
    {
     "data": {
      "text/plain": [
       "array([[0., 1., 1., 1., 1., 1., 0., 1., 0., 0., 0., 0.],\n",
       "       [1., 0., 1., 0., 0., 2., 0., 0., 1., 0., 0., 0.],\n",
       "       [1., 1., 0., 0., 0., 1., 0., 1., 1., 0., 0., 0.],\n",
       "       [1., 0., 0., 0., 0., 1., 2., 1., 0., 0., 0., 0.],\n",
       "       [1., 0., 0., 0., 0., 0., 0., 1., 0., 0., 1., 1.],\n",
       "       [1., 2., 1., 1., 0., 2., 1., 2., 1., 0., 0., 0.],\n",
       "       [0., 0., 0., 2., 0., 1., 0., 1., 0., 0., 0., 0.],\n",
       "       [1., 0., 1., 1., 1., 2., 1., 0., 1., 0., 0., 0.],\n",
       "       [0., 1., 1., 0., 0., 1., 0., 1., 0., 0., 0., 0.],\n",
       "       [0., 0., 0., 0., 0., 0., 0., 0., 0., 0., 2., 1.],\n",
       "       [0., 0., 0., 0., 1., 0., 0., 0., 0., 2., 0., 2.],\n",
       "       [0., 0., 0., 0., 1., 0., 0., 0., 0., 1., 2., 0.]])"
      ]
     },
     "metadata": {},
     "output_type": "display_data"
    }
   ],
   "source": [
    "# word_context_test_2 (5 points)\n",
    "display(densify(titles_wc, len(titles_dict))) "
   ]
  },
  {
   "cell_type": "markdown",
   "metadata": {
    "deletable": false,
    "editable": false,
    "nbgrader": {
     "checksum": "50515f2d347b02886c1c84becb5f5e89",
     "grade": false,
     "grade_id": "sppmi_spec",
     "locked": true,
     "schema_version": 1,
     "solution": false
    }
   },
   "source": [
    "### Step 1.4: Enhancing the word-context matrix\n",
    "\n",
    "In lecture, we saw a number of possible enhancements for word-context matrices. Write a function `sppmi` that takes as input:\n",
    "\n",
    "1. a sparse word-context matrix in the format of `titles_wc` above\n",
    "3. a counts dictionary\n",
    "4. a float `logk`\n",
    "\n",
    "and returns a new sparse word-context matrix with the values in the matrix replaced by shifted positive pointwise mutual informations ($SPPMI$). The formula is:\n",
    "\n",
    "$$SPPMI = \\max(\\log (\\frac{\\#(w,c) |D|}{\\#(w)\\#(c)}) - \\log(k), 0)$$\n",
    "\n",
    "where $\\#(w,c)$ is the count of word $w$ in context $c$ (the original count from the last section), $\\#(w)$ is the count of word $w$, $\\#(c)$ is the count of word $c$ (both come from `titles_counts`), $|D|$ is the length of the corpus, and $k$ is a free hyperparameter."
   ]
  },
  {
   "cell_type": "code",
   "execution_count": 107,
   "metadata": {
    "colab": {},
    "colab_type": "code",
    "deletable": false,
    "id": "9eNwWzu1U-_d",
    "nbgrader": {
     "checksum": "7428dbc006f33f9b300da79342cde4b1",
     "grade": false,
     "grade_id": "sppmi_answer",
     "locked": false,
     "schema_version": 1,
     "solution": true
    }
   },
   "outputs": [],
   "source": [
    "# sppmi_answer\n",
    "def sppmi(gswc, counts, logk):\n",
    "    D=sum(counts)\n",
    "    sppmi_matrix=[]\n",
    "    i=0\n",
    "    for doc in gswc:\n",
    "        matrix=[]\n",
    "        for word in doc:\n",
    "            sppmi=max(np.log((word[1]*D)/(counts[i]*counts[word[0]]))-logk,0)\n",
    "            matrix.append((word[0],sppmi))\n",
    "        sppmi_matrix.extend([matrix])\n",
    "        i=i+1\n",
    "    return np.array(sppmi_matrix)\n"
   ]
  },
  {
   "cell_type": "code",
   "execution_count": 108,
   "metadata": {
    "deletable": false,
    "editable": false,
    "nbgrader": {
     "checksum": "02b45efb445c4160b708bfbbac3b2157",
     "grade": true,
     "grade_id": "sppmi_test_1",
     "locked": true,
     "points": 5,
     "schema_version": 1,
     "solution": false
    }
   },
   "outputs": [],
   "source": [
    "# sppmi_test_1 (5 points)\n",
    "titles_sppmi = sppmi(titles_wc, titles_counts, 0)"
   ]
  },
  {
   "cell_type": "code",
   "execution_count": 109,
   "metadata": {
    "deletable": false,
    "editable": false,
    "nbgrader": {
     "checksum": "a3dd9c1002950de76e4fb622be7dbdcd",
     "grade": true,
     "grade_id": "sppmi_test_2",
     "locked": true,
     "points": 5,
     "schema_version": 1,
     "solution": false
    }
   },
   "outputs": [
    {
     "data": {
      "text/plain": [
       "array([[0. , 2. , 2. , 2. , 2. , 1.3, 0. , 1.6, 0. , 0. , 0. , 0. ],\n",
       "       [2. , 0. , 2. , 0. , 0. , 2. , 0. , 0. , 2. , 0. , 0. , 0. ],\n",
       "       [2. , 2. , 0. , 0. , 0. , 1.3, 0. , 1.6, 2. , 0. , 0. , 0. ],\n",
       "       [2. , 0. , 0. , 0. , 0. , 1.3, 2.7, 1.6, 0. , 0. , 0. , 0. ],\n",
       "       [2. , 0. , 0. , 0. , 0. , 0. , 0. , 1.6, 0. , 0. , 1.6, 2. ],\n",
       "       [1.3, 2. , 1.3, 1.3, 0. , 1.3, 1.3, 1.6, 1.3, 0. , 0. , 0. ],\n",
       "       [0. , 0. , 0. , 2.7, 0. , 1.3, 0. , 1.6, 0. , 0. , 0. , 0. ],\n",
       "       [1.6, 0. , 1.6, 1.6, 1.6, 1.6, 1.6, 0. , 1.6, 0. , 0. , 0. ],\n",
       "       [0. , 2. , 2. , 0. , 0. , 1.3, 0. , 1.6, 0. , 0. , 0. , 0. ],\n",
       "       [0. , 0. , 0. , 0. , 0. , 0. , 0. , 0. , 0. , 0. , 1.9, 1.6],\n",
       "       [0. , 0. , 0. , 0. , 1.6, 0. , 0. , 0. , 0. , 1.9, 0. , 2.3],\n",
       "       [0. , 0. , 0. , 0. , 2. , 0. , 0. , 0. , 0. , 1.6, 2.3, 0. ]])"
      ]
     },
     "metadata": {},
     "output_type": "display_data"
    }
   ],
   "source": [
    "# sppmi_test_1 (5 points)\n",
    "titles_dense_sppmi = densify(titles_sppmi, len(titles_dict))\n",
    "display(titles_dense_sppmi.round(1))"
   ]
  },
  {
   "cell_type": "markdown",
   "metadata": {
    "deletable": false,
    "editable": false,
    "nbgrader": {
     "checksum": "6a70313249b7c2055b596e4c4d919818",
     "grade": false,
     "grade_id": "reviews_sppmi",
     "locked": true,
     "schema_version": 1,
     "solution": false
    }
   },
   "source": [
    "The cell below converts the counts to $SPPMI$s in the word-context matrix for the 100,000 Amazon reviews."
   ]
  },
  {
   "cell_type": "code",
   "execution_count": 110,
   "metadata": {},
   "outputs": [],
   "source": [
    "reviews_sppmi = sppmi(reviews_wc, reviews_counts, np.log(5))"
   ]
  },
  {
   "cell_type": "raw",
   "metadata": {},
   "source": [
    "reviews_sppmi[:1]"
   ]
  },
  {
   "cell_type": "markdown",
   "metadata": {
    "deletable": false,
    "editable": false,
    "nbgrader": {
     "checksum": "75d2c0acac0039bbab6914deda0e59af",
     "grade": false,
     "grade_id": "reconstruction_spec",
     "locked": true,
     "schema_version": 1,
     "solution": false
    }
   },
   "source": [
    "### Step 1.5: Sparse SVD/PCA/LSA/LSI\n",
    "\n",
    "One of the greatest benefits of gensim is that there is no need to densify the matrix before decomposing. Indeed, they post some impressive numbers about their SVD speed [here](https://radimrehurek.com/gensim/models/lsimodel.html). But for now, we will test it just on our toy dataset. In the cell below, write a function called `reconstruction` that takes as input:\n",
    "\n",
    "1. a sparse matrix\n",
    "2. a gensim dictionary\n",
    "2. a cutoff for PCA\n",
    "\n",
    "The function should compute the norm of the difference of the reconstructed matrix and the original, and return that dividing by the norm of the original.\n",
    "\n",
    "Hint: The right singular vectors ($V$ or `model[sparse]`) already contain the singular values ($S$ or `model.projection.s`) so don't include them again!"
   ]
  },
  {
   "cell_type": "raw",
   "metadata": {},
   "source": [
    "稀疏矩阵转稠密\n",
    "用另一个包算big data的svd（document*decomposition_features,decomposition_features*term）\n",
    "求norm值"
   ]
  },
  {
   "cell_type": "code",
   "execution_count": 111,
   "metadata": {
    "deletable": false,
    "nbgrader": {
     "checksum": "c1f3939222b67f7f87703d74283fec27",
     "grade": false,
     "grade_id": "reconstruction_answer",
     "locked": false,
     "schema_version": 1,
     "solution": true
    }
   },
   "outputs": [],
   "source": [
    "# reconstruction_answer\n",
    "####这里有要求是12*9还是9*12吗？？？\n",
    "\n",
    "def reconstruction(sparse, gsdict, cutoff):\n",
    "    lsi_model = LsiModel(sparse, id2word=gsdict,num_topics=cutoff)#LsiModel(num_terms=12, num_topics=2, decay=1.0, chunksize=20000)\n",
    "    vector = lsi_model[sparse]#每个文档用num_topics个维度表示（降维）e.g.[(0, 0.6594664059797396), (1, 0.1421154440372992)]\n",
    "    #每个topic对应的向量 e.g.[ 0.24047023  0.22135078  0.1976454   0.26503747  0.20591786  0.64448115  0.26503747  0.40359886  0.30082816  0.01274618  0.03613585  0.03175633]\n",
    "    #print(lsi_model.get_topics())\n",
    "    vector=densify(vector, cutoff).transpose()\n",
    "    U = lsi_model.projection.u\n",
    "    svd_matrix = np.dot(U,vector)\n",
    "#     print(svd_matrix)\n",
    "    orig_matrix = densify(sparse, len(gsdict)).transpose()\n",
    "#     print(orig_matrix)\n",
    "    norm = np.linalg.norm(svd_matrix-orig_matrix)/np.linalg.norm(orig_matrix)\n",
    "#     print(np.linalg.norm(svd_matrix-orig_matrix),np.linalg.norm(orig_matrix))\n",
    "    return norm\n",
    "cutoff = 2\n"
   ]
  },
  {
   "cell_type": "code",
   "execution_count": 112,
   "metadata": {
    "deletable": false,
    "editable": false,
    "nbgrader": {
     "checksum": "1112c8fb4b2e6a0b4205691e5c55ba65",
     "grade": true,
     "grade_id": "reconstruction_test_1",
     "locked": true,
     "points": 5,
     "schema_version": 1,
     "solution": false
    }
   },
   "outputs": [
    {
     "name": "stdout",
     "output_type": "stream",
     "text": [
      "The reconstruction error with 2 components on the the toy dataset is 0.6569296073921538\n"
     ]
    }
   ],
   "source": [
    "# reconstruction_test_1 (5 points)\n",
    "\n",
    "error = reconstruction(titles_bow, titles_dict, cutoff)\n",
    "print(\"The reconstruction error with\", cutoff, \"components on the the toy dataset is\", error)"
   ]
  },
  {
   "cell_type": "code",
   "execution_count": 113,
   "metadata": {
    "deletable": false,
    "editable": false,
    "nbgrader": {
     "checksum": "11729a2ee9ba74ddbe8f0429ed95f586",
     "grade": true,
     "grade_id": "reconstruction_test_2",
     "locked": true,
     "points": 5,
     "schema_version": 1,
     "solution": false
    }
   },
   "outputs": [
    {
     "name": "stdout",
     "output_type": "stream",
     "text": [
      "The reconstruction error with 9 components on the the toy dataset is 1.2233732791388357e-15\n"
     ]
    }
   ],
   "source": [
    "# reconstruction_test_2 (5 points)\n",
    "cutoff = 9\n",
    "error = reconstruction(titles_bow, titles_dict, cutoff)\n",
    "print(\"The reconstruction error with\", cutoff, \"components on the the toy dataset is\", error)"
   ]
  },
  {
   "cell_type": "markdown",
   "metadata": {
    "deletable": false,
    "editable": false,
    "nbgrader": {
     "checksum": "e8c9251026ed314e8d2a64ab0b8091f8",
     "grade": false,
     "grade_id": "vec2doc_spec",
     "locked": true,
     "schema_version": 1,
     "solution": false
    }
   },
   "source": [
    "### Step 1.6: Assembling the dense representation\n",
    "\n",
    "The last step in this process is to combine our two datasets, namely the document-term matrix and the word-context matrix. The appeal is that rather than reducing dimensionality by choosing a very small vocabulary, we can select relevant features from a vector space that contains all of the words. However, this requires a heavy assumption: a document representation is the sum of the representations of its words. This does not allow any non-compositionality of language (which we know there is some) and it makes each word equally important (which arguably is false as well).\n",
    "\n",
    "In the cell below, write a function `vec2doc` that takes as input:\n",
    "\n",
    "1. a bag of words corpus in the format of `titles_bow` above\n",
    "2. a list of word vectors in proper order (by dictionary index) like `reviews_wv` above\n",
    "\n",
    "and returns a dense matrix. This matrix contains one vector per document which was computed by summing all of the vectors corresponding to the words in the document (including repeats)."
   ]
  },
  {
   "cell_type": "raw",
   "metadata": {},
   "source": [
    "np.array(reviews_sppmi_300[0]) #len:18716*300"
   ]
  },
  {
   "cell_type": "code",
   "execution_count": 114,
   "metadata": {
    "deletable": false,
    "nbgrader": {
     "checksum": "15a754f1efecf926e907031cebfbc320",
     "grade": false,
     "grade_id": "vec2doc_answer",
     "locked": false,
     "schema_version": 1,
     "solution": true
    }
   },
   "outputs": [],
   "source": [
    "# vec2doc_answer\n",
    "def vec2doc(gsbow, vectors):\n",
    "    doc_vectors=[]\n",
    "    for doc in gsbow:\n",
    "        vector=[0]*len(vectors[0])\n",
    "        for term in doc:\n",
    "            vector = vector+vectors[term[0]]*term[1]\n",
    "        doc_vectors.extend([vector])\n",
    "    return np.array(doc_vectors)\n",
    "            "
   ]
  },
  {
   "cell_type": "code",
   "execution_count": 115,
   "metadata": {
    "deletable": false,
    "editable": false,
    "nbgrader": {
     "checksum": "98e0a39fef48b1d3f839221018dc1591",
     "grade": true,
     "grade_id": "vec2doc_test_1",
     "locked": true,
     "points": 5,
     "schema_version": 1,
     "solution": false
    }
   },
   "outputs": [],
   "source": [
    "# vec2doc_test_1 (5 points)\n",
    "vecs_sppmi = vec2doc(reviews_bow, reviews_sppmi_300)"
   ]
  },
  {
   "cell_type": "code",
   "execution_count": 116,
   "metadata": {
    "deletable": false,
    "editable": false,
    "nbgrader": {
     "checksum": "1b422a5e8098c575116d5ad28596bfb2",
     "grade": true,
     "grade_id": "vec2doc_test_2",
     "locked": true,
     "points": 5,
     "schema_version": 1,
     "solution": false
    }
   },
   "outputs": [
    {
     "data": {
      "text/plain": [
       "(100000, 300)"
      ]
     },
     "metadata": {},
     "output_type": "display_data"
    }
   ],
   "source": [
    "# vec2doc_test_2 (5 points)\n",
    "display(vecs_sppmi.shape)"
   ]
  },
  {
   "cell_type": "markdown",
   "metadata": {
    "deletable": false,
    "editable": false,
    "nbgrader": {
     "checksum": "c35e1c149734511299758f933b295b12",
     "grade": false,
     "grade_id": "use_dict_spec",
     "locked": true,
     "schema_version": 1,
     "solution": false
    }
   },
   "source": [
    "## Step 2: Feature selection and hyperparameter tuning\n",
    "\n",
    "By this point, you have already written most of the code to import and use the word embeddings made by `word2vec`. Once both are loaded and the hyperparameters are set, you are ready to compare them against the bag of words baseline on the classification task.\n",
    "\n",
    "### Step 2.1: Assembling the other dense representation\n",
    "\n",
    "The only small structural difference between the word vectors that you computed and the `word2vec` embeddings is that your word vectors use a vocabulary/dictionary for indexing, whereas `word2vec` vectors are accessed using a Python dictionary. So, to access the vector for the word \"good\" you would need to use the integer `good` in `vecs_sppmi[good]` and the string 'good' in `reviews_wv['good']`.\n",
    "\n",
    "Since string lookups can be inefficient and so you may maximally reuse your code, write a function `use_dict` that takes as input:\n",
    "\n",
    "1. a dictionary in the format of `titles_dict` above\n",
    "2. `KeyedVector word2vec` embeddings, as in `reviews_wv`\n",
    "\n",
    "and returns a list of vectors indexed using the input dictionary.\n",
    "\n",
    "In the unlikely case that you are missing a vector, just set the value at that index to the integer `0`."
   ]
  },
  {
   "cell_type": "code",
   "execution_count": 117,
   "metadata": {
    "deletable": false,
    "nbgrader": {
     "checksum": "af6c283259a55ba1e9ec06dbd791175f",
     "grade": false,
     "grade_id": "use_dict_answer",
     "locked": false,
     "schema_version": 1,
     "solution": true
    }
   },
   "outputs": [],
   "source": [
    "# use_dict_answer\n",
    "def use_dict(gsdict, vectors):\n",
    "#     i=0\n",
    "    dict2vec=[]\n",
    "    for k,v in gsdict.items():\n",
    "        if v in vectors:\n",
    "            dict2vec.extend([vectors[v]])\n",
    "        else:\n",
    "            dict2vec.extend([[0]*300])\n",
    "#             i+=1\n",
    "#     print(i)\n",
    "    return np.array(dict2vec)"
   ]
  },
  {
   "cell_type": "code",
   "execution_count": 118,
   "metadata": {
    "deletable": false,
    "editable": false,
    "nbgrader": {
     "checksum": "20857020c959d177902bc5d63a18926f",
     "grade": true,
     "grade_id": "use_dict_test",
     "locked": true,
     "points": 5,
     "schema_version": 1,
     "solution": false
    }
   },
   "outputs": [],
   "source": [
    "# use_dict_test (5 points)\n",
    "reviews_sgns_300 = use_dict(reviews_dict, reviews_wv)\n",
    "vecs_sgns = vec2doc(reviews_bow, reviews_sgns_300)"
   ]
  },
  {
   "cell_type": "markdown",
   "metadata": {},
   "source": [
    "print(reviews_sgns_300.shape,reviews_sgns_300[:10])\n",
    "print(vecs_sgns.shape,vecs_sgns[:10])"
   ]
  },
  {
   "cell_type": "raw",
   "metadata": {},
   "source": [
    "vecs_sgns#100000*300 step1.6"
   ]
  },
  {
   "cell_type": "markdown",
   "metadata": {
    "deletable": false,
    "editable": false,
    "nbgrader": {
     "checksum": "0fd0d8ec73dd139cae3a2f660c4a71de",
     "grade": false,
     "grade_id": "pca_bow_spec",
     "locked": true,
     "schema_version": 1,
     "solution": false
    }
   },
   "source": [
    "### Step 2.2: PCA on pure BOW\n",
    "\n",
    "While the $SPPMI$ and $SGNS$ models are already dimensionality reduced, it would be a good idea to also run PCA on the $BOW$ baseline. Train a gensim `LsiModel` on `reviews_bow` using `reviews_dict` as the dictionary and 1000 components."
   ]
  },
  {
   "cell_type": "code",
   "execution_count": 119,
   "metadata": {
    "colab": {},
    "colab_type": "code",
    "deletable": false,
    "id": "-rXaAyPa5Zqp",
    "nbgrader": {
     "checksum": "96932268e3cb047c3b15377b81ec59bd",
     "grade": false,
     "grade_id": "pca_bow_answer",
     "locked": false,
     "schema_version": 1,
     "solution": true
    }
   },
   "outputs": [],
   "source": [
    "# pca_bow_answer\n",
    "max_cutoff = 1000\n",
    "model = LsiModel(reviews_bow, id2word=reviews_dict,num_topics=max_cutoff)"
   ]
  },
  {
   "cell_type": "markdown",
   "metadata": {
    "deletable": false,
    "editable": false,
    "nbgrader": {
     "checksum": "4c78bee8ef6c21d2cdc2946c9ef10b26",
     "grade": false,
     "grade_id": "pca_bow_var_plot_spec",
     "locked": true,
     "schema_version": 1,
     "solution": false
    }
   },
   "source": [
    "Once it is finished, use the code below to plot the explained variance versus number of components. You just need to pass in a list of singular values (no `diag` necessary)."
   ]
  },
  {
   "cell_type": "code",
   "execution_count": 120,
   "metadata": {
    "colab": {
     "base_uri": "https://localhost:8080/",
     "height": 329
    },
    "colab_type": "code",
    "id": "UC9vD7tG7XxH",
    "outputId": "8f8f21ef-74a0-42b9-a2e2-9e7b74ede8c5"
   },
   "outputs": [
    {
     "data": {
      "image/png": "[encoded data removed]",
      "text/plain": [
       "<Figure size 432x288 with 1 Axes>"
      ]
     },
     "metadata": {
      "needs_background": "light"
     },
     "output_type": "display_data"
    }
   ],
   "source": [
    "def plot_variance_vs_features(singular_values, cutoff):\n",
    "    evr = np.array([singular_values[i]**2 / sum(singular_values**2) for i in range(cutoff)])\n",
    "    var = np.cumsum(evr*100)\n",
    "    plt.ylabel('% Variance Explained')\n",
    "    plt.xlabel('# of Features')\n",
    "    plt.title('PCA Analysis')\n",
    "    plt.style.context('seaborn-whitegrid')\n",
    "    plt.plot(var)\n",
    "    \n",
    "plot_variance_vs_features(model.projection.s, max_cutoff)"
   ]
  },
  {
   "cell_type": "markdown",
   "metadata": {
    "deletable": false,
    "editable": false,
    "nbgrader": {
     "checksum": "97cb6c09ccedbcef1593ce66f433d8ba",
     "grade": false,
     "grade_id": "pca_bow_var_plot_analysis",
     "locked": true,
     "schema_version": 1,
     "solution": false
    }
   },
   "source": [
    "The good news is this curve is very steep in the beginning, which shows that a lot of information is conveyed in the first components. However, there is no plateau that we can use to choose a cutoff!\n",
    "\n",
    "**So, instead, we will break off a validaton set and use classifier performance to tune this hyperparameter.**"
   ]
  },
  {
   "cell_type": "code",
   "execution_count": 121,
   "metadata": {},
   "outputs": [],
   "source": [
    "def evaluate_model(X, review_times, y):\n",
    "    X = np.hstack((X, review_times))\n",
    "    X_train, X_test, y_train, y_test = ms.train_test_split(X, y, test_size=0.2, random_state = 195)\n",
    "    rfor = RandomForestClassifier(n_estimators=51, random_state=195)\n",
    "    rfor.fit(X_train, y_train)\n",
    "    return rfor.score(X_test, y_test)"
   ]
  },
  {
   "cell_type": "markdown",
   "metadata": {
    "deletable": false,
    "editable": false,
    "nbgrader": {
     "checksum": "04e21c4ce2cf078ca2bee2f5575553b0",
     "grade": false,
     "grade_id": "baseline_tuning_spec",
     "locked": true,
     "schema_version": 1,
     "solution": false
    }
   },
   "source": [
    "### Step 2.3: Choosing the number of components via the downstream task\n",
    "\n",
    "In some ways, this method of choosing the number of components is even better than the plateau method, because we are optimizing directly on the machine learning task rather than something intrinsic to the dataset. In the cell below, call `evaluate model` on models between 10 and 30 PCA components. For each model, you will need to train an `LsiModel`, compute the $V$ matrix (right singular vectors), call `densify` on that, and pass the dense matrix to evaluate model. Store all of your accuracies in a list named results."
   ]
  },
  {
   "cell_type": "code",
   "execution_count": 122,
   "metadata": {
    "deletable": false,
    "nbgrader": {
     "checksum": "37d29ce8a8461c0ab03fb7994b4d33f0",
     "grade": false,
     "grade_id": "baseline_tuning_answer",
     "locked": false,
     "schema_version": 1,
     "solution": true
    }
   },
   "outputs": [],
   "source": [
    "# baseline_tuning_answer\n",
    "results=[]\n",
    "\n",
    "for cutoff in range(10,30):\n",
    "    lsi_model = LsiModel(reviews_bow, id2word=reviews_dict,num_topics=cutoff)\n",
    "    vector = lsi_model[reviews_bow]\n",
    "    verc_dens = densify(vector,cutoff)\n",
    "    results.append(evaluate_model(verc_dens, reviews_times, y))\n"
   ]
  },
  {
   "cell_type": "code",
   "execution_count": 123,
   "metadata": {
    "deletable": false,
    "editable": false,
    "nbgrader": {
     "checksum": "def3777cddbd039a8e5966aadbeac413",
     "grade": true,
     "grade_id": "baseline_tuning_test",
     "locked": true,
     "points": 5,
     "schema_version": 1,
     "solution": false
    }
   },
   "outputs": [
    {
     "data": {
      "text/plain": [
       "[0.6667,\n",
       " 0.66485,\n",
       " 0.6682,\n",
       " 0.6704,\n",
       " 0.6771,\n",
       " 0.681,\n",
       " 0.68505,\n",
       " 0.69355,\n",
       " 0.69405,\n",
       " 0.6895,\n",
       " 0.6885,\n",
       " 0.6881,\n",
       " 0.6908,\n",
       " 0.6901,\n",
       " 0.6914,\n",
       " 0.69215,\n",
       " 0.69005,\n",
       " 0.6903,\n",
       " 0.6918,\n",
       " 0.69065]"
      ]
     },
     "metadata": {},
     "output_type": "display_data"
    }
   ],
   "source": [
    "# baseline_tuning_test (5 points)\n",
    "display(results)"
   ]
  },
  {
   "cell_type": "code",
   "execution_count": 124,
   "metadata": {
    "deletable": false,
    "editable": false,
    "nbgrader": {
     "checksum": "83b6d38076f108ee9b323b6c99243407",
     "grade": true,
     "grade_id": "final_sppmi_test",
     "locked": true,
     "points": 5,
     "schema_version": 1,
     "solution": false
    }
   },
   "outputs": [
    {
     "name": "stdout",
     "output_type": "stream",
     "text": [
      "0.77575\n"
     ]
    }
   ],
   "source": [
    "# final_sppmi_test (5 points)\n",
    "final_sppmi = evaluate_model(vecs_sppmi, reviews_times, y)\n",
    "print(final_sppmi)"
   ]
  },
  {
   "cell_type": "code",
   "execution_count": 125,
   "metadata": {
    "deletable": false,
    "editable": false,
    "nbgrader": {
     "checksum": "f6dc570e5130d32f2126e616cbe5b9e1",
     "grade": true,
     "grade_id": "final_sgns_test",
     "locked": true,
     "points": 5,
     "schema_version": 1,
     "solution": false
    }
   },
   "outputs": [
    {
     "name": "stdout",
     "output_type": "stream",
     "text": [
      "0.7404\n"
     ]
    }
   ],
   "source": [
    "# final_sgns_test (5 points)\n",
    "final_sgns = evaluate_model(vecs_sgns, reviews_times, y)\n",
    "print(final_sgns)"
   ]
  },
  {
   "cell_type": "markdown",
   "metadata": {
    "colab": {},
    "colab_type": "code",
    "deletable": false,
    "editable": false,
    "id": "-1dPG4eAe3nI",
    "nbgrader": {
     "checksum": "21d4e06928cc8acce75931367fa7af2e",
     "grade": false,
     "grade_id": "kaggle",
     "locked": true,
     "schema_version": 1,
     "solution": false
    }
   },
   "source": [
    "## Step 3: In-class Kaggle competition\n",
    "\n",
    "To conclude this homework and this class, we are opening up to a more flexible system. We would like for you to use everything you have learned in CIS 545 to make the best star rating predictor possible. For grading purposes, we are going to check (manually) whether you thought about and worked on each of the subsections that follow. These sections will be pass/fail and the questions under each of the headlines are meant to help you brainstorm, not impose requirements.\n",
    "\n",
    "**Beyond that, a small amount of extra credit will be awarded to the students with the best performing models. We should be able to maintain an (anonymous) leaderboard on Piazza. Scores on this leaderboard will correspond to performance on our test set, which has not been released to you. Therefore, our TAs will run your models on our test data and report the results to ensure fairness.**"
   ]
  },
  {
   "cell_type": "raw",
   "metadata": {},
   "source": [
    "len(reviews_wv.index2entity)\n",
    "9189+9527"
   ]
  },
  {
   "cell_type": "markdown",
   "metadata": {
    "deletable": false,
    "editable": false,
    "nbgrader": {
     "checksum": "d3408498aa1c5caade08bc9d90fbc2b1",
     "grade": false,
     "grade_id": "scaling_spec",
     "locked": true,
     "schema_version": 1,
     "solution": false
    }
   },
   "source": [
    "### Step 3.1: Scaling\n",
    "\n",
    "What is the range of values for each feature? Are they comparable? Do some dominate others? Try minmax, standard, log, exponential, binary, or thresholding. How are predicted 1 star rating and predicted 5 star ratings different? How are actual 1 star ratings and actual 5 star ratings different? "
   ]
  },
  {
   "cell_type": "code",
   "execution_count": 126,
   "metadata": {},
   "outputs": [],
   "source": [
    "from gensim.test.utils import get_tmpfile\n",
    "from gensim.test.utils import datapath"
   ]
  },
  {
   "cell_type": "code",
   "execution_count": 127,
   "metadata": {
    "deletable": false,
    "nbgrader": {
     "checksum": "c54727f2f28132c47b590ba75b6a3698",
     "grade": true,
     "grade_id": "scaling",
     "locked": false,
     "points": 15,
     "schema_version": 1,
     "solution": true
    }
   },
   "outputs": [
    {
     "data": {
      "text/html": [
       "<div>\n",
       "<style scoped>\n",
       "    .dataframe tbody tr th:only-of-type {\n",
       "        vertical-align: middle;\n",
       "    }\n",
       "\n",
       "    .dataframe tbody tr th {\n",
       "        vertical-align: top;\n",
       "    }\n",
       "\n",
       "    .dataframe thead th {\n",
       "        text-align: right;\n",
       "    }\n",
       "</style>\n",
       "<table border=\"1\" class=\"dataframe\">\n",
       "  <thead>\n",
       "    <tr style=\"text-align: right;\">\n",
       "      <th></th>\n",
       "      <th>0</th>\n",
       "      <th>1</th>\n",
       "      <th>2</th>\n",
       "      <th>3</th>\n",
       "      <th>4</th>\n",
       "      <th>5</th>\n",
       "      <th>6</th>\n",
       "      <th>7</th>\n",
       "      <th>8</th>\n",
       "      <th>9</th>\n",
       "      <th>...</th>\n",
       "      <th>290</th>\n",
       "      <th>291</th>\n",
       "      <th>292</th>\n",
       "      <th>293</th>\n",
       "      <th>294</th>\n",
       "      <th>295</th>\n",
       "      <th>296</th>\n",
       "      <th>297</th>\n",
       "      <th>298</th>\n",
       "      <th>299</th>\n",
       "    </tr>\n",
       "  </thead>\n",
       "  <tbody>\n",
       "    <tr>\n",
       "      <th>count</th>\n",
       "      <td>9189.000000</td>\n",
       "      <td>9189.000000</td>\n",
       "      <td>9189.000000</td>\n",
       "      <td>9189.000000</td>\n",
       "      <td>9189.000000</td>\n",
       "      <td>9189.000000</td>\n",
       "      <td>9189.000000</td>\n",
       "      <td>9189.000000</td>\n",
       "      <td>9189.000000</td>\n",
       "      <td>9189.000000</td>\n",
       "      <td>...</td>\n",
       "      <td>9189.000000</td>\n",
       "      <td>9189.000000</td>\n",
       "      <td>9189.000000</td>\n",
       "      <td>9189.000000</td>\n",
       "      <td>9189.000000</td>\n",
       "      <td>9189.000000</td>\n",
       "      <td>9189.000000</td>\n",
       "      <td>9189.000000</td>\n",
       "      <td>9189.000000</td>\n",
       "      <td>9189.000000</td>\n",
       "    </tr>\n",
       "    <tr>\n",
       "      <th>mean</th>\n",
       "      <td>0.058262</td>\n",
       "      <td>-0.033631</td>\n",
       "      <td>0.041070</td>\n",
       "      <td>-0.044175</td>\n",
       "      <td>-0.078115</td>\n",
       "      <td>0.024482</td>\n",
       "      <td>-0.018873</td>\n",
       "      <td>0.052698</td>\n",
       "      <td>0.002627</td>\n",
       "      <td>-0.012680</td>\n",
       "      <td>...</td>\n",
       "      <td>0.016049</td>\n",
       "      <td>-0.006967</td>\n",
       "      <td>0.022748</td>\n",
       "      <td>0.001205</td>\n",
       "      <td>-0.011652</td>\n",
       "      <td>0.073403</td>\n",
       "      <td>0.000506</td>\n",
       "      <td>-0.041447</td>\n",
       "      <td>-0.021036</td>\n",
       "      <td>0.007522</td>\n",
       "    </tr>\n",
       "    <tr>\n",
       "      <th>std</th>\n",
       "      <td>0.261580</td>\n",
       "      <td>0.289418</td>\n",
       "      <td>0.361857</td>\n",
       "      <td>0.294736</td>\n",
       "      <td>0.314829</td>\n",
       "      <td>0.236379</td>\n",
       "      <td>0.242887</td>\n",
       "      <td>0.244256</td>\n",
       "      <td>0.295381</td>\n",
       "      <td>0.254308</td>\n",
       "      <td>...</td>\n",
       "      <td>0.248347</td>\n",
       "      <td>0.284525</td>\n",
       "      <td>0.258713</td>\n",
       "      <td>0.354126</td>\n",
       "      <td>0.298317</td>\n",
       "      <td>0.280874</td>\n",
       "      <td>0.269664</td>\n",
       "      <td>0.263705</td>\n",
       "      <td>0.272901</td>\n",
       "      <td>0.296020</td>\n",
       "    </tr>\n",
       "    <tr>\n",
       "      <th>min</th>\n",
       "      <td>-2.467928</td>\n",
       "      <td>-2.641507</td>\n",
       "      <td>-1.972841</td>\n",
       "      <td>-2.710880</td>\n",
       "      <td>-1.983194</td>\n",
       "      <td>-1.932557</td>\n",
       "      <td>-1.785748</td>\n",
       "      <td>-1.874861</td>\n",
       "      <td>-1.751582</td>\n",
       "      <td>-2.320272</td>\n",
       "      <td>...</td>\n",
       "      <td>-2.047910</td>\n",
       "      <td>-2.091035</td>\n",
       "      <td>-1.921271</td>\n",
       "      <td>-2.765815</td>\n",
       "      <td>-2.512758</td>\n",
       "      <td>-1.861384</td>\n",
       "      <td>-2.838996</td>\n",
       "      <td>-1.633574</td>\n",
       "      <td>-1.878602</td>\n",
       "      <td>-2.327044</td>\n",
       "    </tr>\n",
       "    <tr>\n",
       "      <th>25%</th>\n",
       "      <td>-0.037738</td>\n",
       "      <td>-0.116469</td>\n",
       "      <td>-0.107568</td>\n",
       "      <td>-0.120270</td>\n",
       "      <td>-0.183136</td>\n",
       "      <td>-0.043928</td>\n",
       "      <td>-0.093538</td>\n",
       "      <td>-0.018378</td>\n",
       "      <td>-0.081538</td>\n",
       "      <td>-0.077276</td>\n",
       "      <td>...</td>\n",
       "      <td>-0.048362</td>\n",
       "      <td>-0.106176</td>\n",
       "      <td>-0.023963</td>\n",
       "      <td>-0.125796</td>\n",
       "      <td>-0.106548</td>\n",
       "      <td>-0.009215</td>\n",
       "      <td>-0.054327</td>\n",
       "      <td>-0.132708</td>\n",
       "      <td>-0.097891</td>\n",
       "      <td>-0.092965</td>\n",
       "    </tr>\n",
       "    <tr>\n",
       "      <th>50%</th>\n",
       "      <td>0.027478</td>\n",
       "      <td>-0.025608</td>\n",
       "      <td>-0.017046</td>\n",
       "      <td>-0.035300</td>\n",
       "      <td>-0.083329</td>\n",
       "      <td>0.017771</td>\n",
       "      <td>-0.030124</td>\n",
       "      <td>0.043586</td>\n",
       "      <td>0.006416</td>\n",
       "      <td>-0.000908</td>\n",
       "      <td>...</td>\n",
       "      <td>0.020181</td>\n",
       "      <td>-0.033371</td>\n",
       "      <td>0.052265</td>\n",
       "      <td>-0.028867</td>\n",
       "      <td>-0.027264</td>\n",
       "      <td>0.067478</td>\n",
       "      <td>0.021160</td>\n",
       "      <td>-0.056809</td>\n",
       "      <td>-0.018326</td>\n",
       "      <td>-0.014201</td>\n",
       "    </tr>\n",
       "    <tr>\n",
       "      <th>75%</th>\n",
       "      <td>0.111019</td>\n",
       "      <td>0.051211</td>\n",
       "      <td>0.101697</td>\n",
       "      <td>0.045960</td>\n",
       "      <td>0.008859</td>\n",
       "      <td>0.088420</td>\n",
       "      <td>0.040319</td>\n",
       "      <td>0.122681</td>\n",
       "      <td>0.088574</td>\n",
       "      <td>0.067510</td>\n",
       "      <td>...</td>\n",
       "      <td>0.085454</td>\n",
       "      <td>0.053639</td>\n",
       "      <td>0.117139</td>\n",
       "      <td>0.082440</td>\n",
       "      <td>0.062203</td>\n",
       "      <td>0.161967</td>\n",
       "      <td>0.091488</td>\n",
       "      <td>0.020120</td>\n",
       "      <td>0.063325</td>\n",
       "      <td>0.073476</td>\n",
       "    </tr>\n",
       "    <tr>\n",
       "      <th>max</th>\n",
       "      <td>2.213986</td>\n",
       "      <td>2.818943</td>\n",
       "      <td>3.163550</td>\n",
       "      <td>1.929852</td>\n",
       "      <td>2.227429</td>\n",
       "      <td>1.762195</td>\n",
       "      <td>1.898351</td>\n",
       "      <td>1.724058</td>\n",
       "      <td>2.990526</td>\n",
       "      <td>2.185570</td>\n",
       "      <td>...</td>\n",
       "      <td>1.955422</td>\n",
       "      <td>1.866928</td>\n",
       "      <td>2.068863</td>\n",
       "      <td>2.438714</td>\n",
       "      <td>2.160171</td>\n",
       "      <td>1.982823</td>\n",
       "      <td>2.480895</td>\n",
       "      <td>1.699782</td>\n",
       "      <td>1.802526</td>\n",
       "      <td>2.119577</td>\n",
       "    </tr>\n",
       "  </tbody>\n",
       "</table>\n",
       "<p>8 rows × 300 columns</p>\n",
       "</div>"
      ],
      "text/plain": [
       "               0            1            2            3            4    \\\n",
       "count  9189.000000  9189.000000  9189.000000  9189.000000  9189.000000   \n",
       "mean      0.058262    -0.033631     0.041070    -0.044175    -0.078115   \n",
       "std       0.261580     0.289418     0.361857     0.294736     0.314829   \n",
       "min      -2.467928    -2.641507    -1.972841    -2.710880    -1.983194   \n",
       "25%      -0.037738    -0.116469    -0.107568    -0.120270    -0.183136   \n",
       "50%       0.027478    -0.025608    -0.017046    -0.035300    -0.083329   \n",
       "75%       0.111019     0.051211     0.101697     0.045960     0.008859   \n",
       "max       2.213986     2.818943     3.163550     1.929852     2.227429   \n",
       "\n",
       "               5            6            7            8            9    \\\n",
       "count  9189.000000  9189.000000  9189.000000  9189.000000  9189.000000   \n",
       "mean      0.024482    -0.018873     0.052698     0.002627    -0.012680   \n",
       "std       0.236379     0.242887     0.244256     0.295381     0.254308   \n",
       "min      -1.932557    -1.785748    -1.874861    -1.751582    -2.320272   \n",
       "25%      -0.043928    -0.093538    -0.018378    -0.081538    -0.077276   \n",
       "50%       0.017771    -0.030124     0.043586     0.006416    -0.000908   \n",
       "75%       0.088420     0.040319     0.122681     0.088574     0.067510   \n",
       "max       1.762195     1.898351     1.724058     2.990526     2.185570   \n",
       "\n",
       "          ...               290          291          292          293  \\\n",
       "count     ...       9189.000000  9189.000000  9189.000000  9189.000000   \n",
       "mean      ...          0.016049    -0.006967     0.022748     0.001205   \n",
       "std       ...          0.248347     0.284525     0.258713     0.354126   \n",
       "min       ...         -2.047910    -2.091035    -1.921271    -2.765815   \n",
       "25%       ...         -0.048362    -0.106176    -0.023963    -0.125796   \n",
       "50%       ...          0.020181    -0.033371     0.052265    -0.028867   \n",
       "75%       ...          0.085454     0.053639     0.117139     0.082440   \n",
       "max       ...          1.955422     1.866928     2.068863     2.438714   \n",
       "\n",
       "               294          295          296          297          298  \\\n",
       "count  9189.000000  9189.000000  9189.000000  9189.000000  9189.000000   \n",
       "mean     -0.011652     0.073403     0.000506    -0.041447    -0.021036   \n",
       "std       0.298317     0.280874     0.269664     0.263705     0.272901   \n",
       "min      -2.512758    -1.861384    -2.838996    -1.633574    -1.878602   \n",
       "25%      -0.106548    -0.009215    -0.054327    -0.132708    -0.097891   \n",
       "50%      -0.027264     0.067478     0.021160    -0.056809    -0.018326   \n",
       "75%       0.062203     0.161967     0.091488     0.020120     0.063325   \n",
       "max       2.160171     1.982823     2.480895     1.699782     1.802526   \n",
       "\n",
       "               299  \n",
       "count  9189.000000  \n",
       "mean      0.007522  \n",
       "std       0.296020  \n",
       "min      -2.327044  \n",
       "25%      -0.092965  \n",
       "50%      -0.014201  \n",
       "75%       0.073476  \n",
       "max       2.119577  \n",
       "\n",
       "[8 rows x 300 columns]"
      ]
     },
     "execution_count": 127,
     "metadata": {},
     "output_type": "execute_result"
    }
   ],
   "source": [
    "####I attempt to find the statistic info (e.g. min, max, std...) of word_context: reviews_wv(9189*300)\n",
    "#term_context: reviews_wv(9189*300)统计量\n",
    "word_list = reviews_wv.index2entity\n",
    "vect_list=[]\n",
    "for word in word_list:\n",
    "    vect_list.append(reviews_wv.get_vector(word))\n",
    "# vect_arr=np.array(vect_list)\n",
    "pd.DataFrame(vect_list).describe()"
   ]
  },
  {
   "cell_type": "code",
   "execution_count": 128,
   "metadata": {
    "scrolled": true
   },
   "outputs": [
    {
     "data": {
      "text/html": [
       "<div>\n",
       "<style scoped>\n",
       "    .dataframe tbody tr th:only-of-type {\n",
       "        vertical-align: middle;\n",
       "    }\n",
       "\n",
       "    .dataframe tbody tr th {\n",
       "        vertical-align: top;\n",
       "    }\n",
       "\n",
       "    .dataframe thead th {\n",
       "        text-align: right;\n",
       "    }\n",
       "</style>\n",
       "<table border=\"1\" class=\"dataframe\">\n",
       "  <thead>\n",
       "    <tr style=\"text-align: right;\">\n",
       "      <th></th>\n",
       "      <th>0</th>\n",
       "      <th>1</th>\n",
       "      <th>2</th>\n",
       "      <th>3</th>\n",
       "      <th>4</th>\n",
       "      <th>5</th>\n",
       "      <th>6</th>\n",
       "      <th>7</th>\n",
       "      <th>8</th>\n",
       "      <th>9</th>\n",
       "      <th>...</th>\n",
       "      <th>290</th>\n",
       "      <th>291</th>\n",
       "      <th>292</th>\n",
       "      <th>293</th>\n",
       "      <th>294</th>\n",
       "      <th>295</th>\n",
       "      <th>296</th>\n",
       "      <th>297</th>\n",
       "      <th>298</th>\n",
       "      <th>299</th>\n",
       "    </tr>\n",
       "  </thead>\n",
       "  <tbody>\n",
       "    <tr>\n",
       "      <th>count</th>\n",
       "      <td>18716.000000</td>\n",
       "      <td>18716.000000</td>\n",
       "      <td>18716.000000</td>\n",
       "      <td>18716.000000</td>\n",
       "      <td>18716.000000</td>\n",
       "      <td>18716.000000</td>\n",
       "      <td>18716.000000</td>\n",
       "      <td>18716.000000</td>\n",
       "      <td>18716.000000</td>\n",
       "      <td>18716.000000</td>\n",
       "      <td>...</td>\n",
       "      <td>18716.000000</td>\n",
       "      <td>18716.000000</td>\n",
       "      <td>18716.000000</td>\n",
       "      <td>18716.000000</td>\n",
       "      <td>18716.000000</td>\n",
       "      <td>18716.000000</td>\n",
       "      <td>18716.000000</td>\n",
       "      <td>18716.000000</td>\n",
       "      <td>18716.000000</td>\n",
       "      <td>18716.000000</td>\n",
       "    </tr>\n",
       "    <tr>\n",
       "      <th>mean</th>\n",
       "      <td>2.992991</td>\n",
       "      <td>0.835029</td>\n",
       "      <td>0.020938</td>\n",
       "      <td>-0.045607</td>\n",
       "      <td>-0.158176</td>\n",
       "      <td>-0.189476</td>\n",
       "      <td>0.089974</td>\n",
       "      <td>-0.085138</td>\n",
       "      <td>-0.017074</td>\n",
       "      <td>-0.147132</td>\n",
       "      <td>...</td>\n",
       "      <td>0.000223</td>\n",
       "      <td>0.001891</td>\n",
       "      <td>0.000484</td>\n",
       "      <td>0.001708</td>\n",
       "      <td>0.001080</td>\n",
       "      <td>-0.003700</td>\n",
       "      <td>0.003773</td>\n",
       "      <td>-0.000544</td>\n",
       "      <td>-0.003807</td>\n",
       "      <td>0.001366</td>\n",
       "    </tr>\n",
       "    <tr>\n",
       "      <th>std</th>\n",
       "      <td>2.789018</td>\n",
       "      <td>1.729957</td>\n",
       "      <td>1.814173</td>\n",
       "      <td>1.505106</td>\n",
       "      <td>1.396262</td>\n",
       "      <td>1.361097</td>\n",
       "      <td>1.250892</td>\n",
       "      <td>1.209908</td>\n",
       "      <td>1.142137</td>\n",
       "      <td>1.120996</td>\n",
       "      <td>...</td>\n",
       "      <td>0.505064</td>\n",
       "      <td>0.504745</td>\n",
       "      <td>0.504603</td>\n",
       "      <td>0.504381</td>\n",
       "      <td>0.503673</td>\n",
       "      <td>0.503472</td>\n",
       "      <td>0.503116</td>\n",
       "      <td>0.502805</td>\n",
       "      <td>0.502443</td>\n",
       "      <td>0.502146</td>\n",
       "    </tr>\n",
       "    <tr>\n",
       "      <th>min</th>\n",
       "      <td>0.000000</td>\n",
       "      <td>-12.808408</td>\n",
       "      <td>-25.611084</td>\n",
       "      <td>-13.766142</td>\n",
       "      <td>-13.711670</td>\n",
       "      <td>-12.686065</td>\n",
       "      <td>-11.507061</td>\n",
       "      <td>-14.484530</td>\n",
       "      <td>-14.770571</td>\n",
       "      <td>-11.750525</td>\n",
       "      <td>...</td>\n",
       "      <td>-4.588469</td>\n",
       "      <td>-3.964112</td>\n",
       "      <td>-4.941276</td>\n",
       "      <td>-4.567020</td>\n",
       "      <td>-4.551216</td>\n",
       "      <td>-3.742399</td>\n",
       "      <td>-3.697272</td>\n",
       "      <td>-3.530463</td>\n",
       "      <td>-4.430338</td>\n",
       "      <td>-4.013879</td>\n",
       "    </tr>\n",
       "    <tr>\n",
       "      <th>25%</th>\n",
       "      <td>1.038041</td>\n",
       "      <td>0.668862</td>\n",
       "      <td>-0.252891</td>\n",
       "      <td>-0.546125</td>\n",
       "      <td>-0.672933</td>\n",
       "      <td>-0.701968</td>\n",
       "      <td>-0.305780</td>\n",
       "      <td>-0.483202</td>\n",
       "      <td>-0.394578</td>\n",
       "      <td>-0.585762</td>\n",
       "      <td>...</td>\n",
       "      <td>-0.254369</td>\n",
       "      <td>-0.243786</td>\n",
       "      <td>-0.249681</td>\n",
       "      <td>-0.246111</td>\n",
       "      <td>-0.243043</td>\n",
       "      <td>-0.257851</td>\n",
       "      <td>-0.246776</td>\n",
       "      <td>-0.248554</td>\n",
       "      <td>-0.244253</td>\n",
       "      <td>-0.249476</td>\n",
       "    </tr>\n",
       "    <tr>\n",
       "      <th>50%</th>\n",
       "      <td>1.787420</td>\n",
       "      <td>1.087117</td>\n",
       "      <td>0.193498</td>\n",
       "      <td>-0.079001</td>\n",
       "      <td>-0.246918</td>\n",
       "      <td>-0.276399</td>\n",
       "      <td>0.073256</td>\n",
       "      <td>-0.081768</td>\n",
       "      <td>-0.043141</td>\n",
       "      <td>-0.213003</td>\n",
       "      <td>...</td>\n",
       "      <td>0.000000</td>\n",
       "      <td>0.001705</td>\n",
       "      <td>0.000000</td>\n",
       "      <td>0.001726</td>\n",
       "      <td>0.001691</td>\n",
       "      <td>-0.007124</td>\n",
       "      <td>0.007658</td>\n",
       "      <td>0.000337</td>\n",
       "      <td>-0.003688</td>\n",
       "      <td>0.001196</td>\n",
       "    </tr>\n",
       "    <tr>\n",
       "      <th>75%</th>\n",
       "      <td>3.976144</td>\n",
       "      <td>1.644855</td>\n",
       "      <td>0.597712</td>\n",
       "      <td>0.385872</td>\n",
       "      <td>0.216323</td>\n",
       "      <td>0.167912</td>\n",
       "      <td>0.477971</td>\n",
       "      <td>0.301824</td>\n",
       "      <td>0.317352</td>\n",
       "      <td>0.187886</td>\n",
       "      <td>...</td>\n",
       "      <td>0.251423</td>\n",
       "      <td>0.248116</td>\n",
       "      <td>0.250899</td>\n",
       "      <td>0.251544</td>\n",
       "      <td>0.247643</td>\n",
       "      <td>0.247823</td>\n",
       "      <td>0.252820</td>\n",
       "      <td>0.248444</td>\n",
       "      <td>0.236872</td>\n",
       "      <td>0.251244</td>\n",
       "    </tr>\n",
       "    <tr>\n",
       "      <th>max</th>\n",
       "      <td>18.474248</td>\n",
       "      <td>3.472698</td>\n",
       "      <td>9.753481</td>\n",
       "      <td>11.561458</td>\n",
       "      <td>14.779714</td>\n",
       "      <td>14.277768</td>\n",
       "      <td>10.578323</td>\n",
       "      <td>12.530534</td>\n",
       "      <td>13.256178</td>\n",
       "      <td>10.040801</td>\n",
       "      <td>...</td>\n",
       "      <td>3.526127</td>\n",
       "      <td>4.655981</td>\n",
       "      <td>4.527338</td>\n",
       "      <td>4.925699</td>\n",
       "      <td>4.182201</td>\n",
       "      <td>3.434678</td>\n",
       "      <td>4.777249</td>\n",
       "      <td>4.018170</td>\n",
       "      <td>5.559527</td>\n",
       "      <td>4.209589</td>\n",
       "    </tr>\n",
       "  </tbody>\n",
       "</table>\n",
       "<p>8 rows × 300 columns</p>\n",
       "</div>"
      ],
      "text/plain": [
       "                0             1             2             3             4    \\\n",
       "count  18716.000000  18716.000000  18716.000000  18716.000000  18716.000000   \n",
       "mean       2.992991      0.835029      0.020938     -0.045607     -0.158176   \n",
       "std        2.789018      1.729957      1.814173      1.505106      1.396262   \n",
       "min        0.000000    -12.808408    -25.611084    -13.766142    -13.711670   \n",
       "25%        1.038041      0.668862     -0.252891     -0.546125     -0.672933   \n",
       "50%        1.787420      1.087117      0.193498     -0.079001     -0.246918   \n",
       "75%        3.976144      1.644855      0.597712      0.385872      0.216323   \n",
       "max       18.474248      3.472698      9.753481     11.561458     14.779714   \n",
       "\n",
       "                5             6             7             8             9    \\\n",
       "count  18716.000000  18716.000000  18716.000000  18716.000000  18716.000000   \n",
       "mean      -0.189476      0.089974     -0.085138     -0.017074     -0.147132   \n",
       "std        1.361097      1.250892      1.209908      1.142137      1.120996   \n",
       "min      -12.686065    -11.507061    -14.484530    -14.770571    -11.750525   \n",
       "25%       -0.701968     -0.305780     -0.483202     -0.394578     -0.585762   \n",
       "50%       -0.276399      0.073256     -0.081768     -0.043141     -0.213003   \n",
       "75%        0.167912      0.477971      0.301824      0.317352      0.187886   \n",
       "max       14.277768     10.578323     12.530534     13.256178     10.040801   \n",
       "\n",
       "           ...                290           291           292           293  \\\n",
       "count      ...       18716.000000  18716.000000  18716.000000  18716.000000   \n",
       "mean       ...           0.000223      0.001891      0.000484      0.001708   \n",
       "std        ...           0.505064      0.504745      0.504603      0.504381   \n",
       "min        ...          -4.588469     -3.964112     -4.941276     -4.567020   \n",
       "25%        ...          -0.254369     -0.243786     -0.249681     -0.246111   \n",
       "50%        ...           0.000000      0.001705      0.000000      0.001726   \n",
       "75%        ...           0.251423      0.248116      0.250899      0.251544   \n",
       "max        ...           3.526127      4.655981      4.527338      4.925699   \n",
       "\n",
       "                294           295           296           297           298  \\\n",
       "count  18716.000000  18716.000000  18716.000000  18716.000000  18716.000000   \n",
       "mean       0.001080     -0.003700      0.003773     -0.000544     -0.003807   \n",
       "std        0.503673      0.503472      0.503116      0.502805      0.502443   \n",
       "min       -4.551216     -3.742399     -3.697272     -3.530463     -4.430338   \n",
       "25%       -0.243043     -0.257851     -0.246776     -0.248554     -0.244253   \n",
       "50%        0.001691     -0.007124      0.007658      0.000337     -0.003688   \n",
       "75%        0.247643      0.247823      0.252820      0.248444      0.236872   \n",
       "max        4.182201      3.434678      4.777249      4.018170      5.559527   \n",
       "\n",
       "                299  \n",
       "count  18716.000000  \n",
       "mean       0.001366  \n",
       "std        0.502146  \n",
       "min       -4.013879  \n",
       "25%       -0.249476  \n",
       "50%        0.001196  \n",
       "75%        0.251244  \n",
       "max        4.209589  \n",
       "\n",
       "[8 rows x 300 columns]"
      ]
     },
     "execution_count": 128,
     "metadata": {},
     "output_type": "execute_result"
    }
   ],
   "source": [
    "####I attempt to find the statistic info (e.g. min, max, std...) of word_context: reviews_sppmi_300(18716*300)\n",
    "#term_context: reviews_sppmi_300(18716*300)统计量\n",
    "pd.DataFrame(reviews_sppmi_300).describe()  "
   ]
  },
  {
   "cell_type": "code",
   "execution_count": 129,
   "metadata": {},
   "outputs": [
    {
     "data": {
      "text/html": [
       "<div>\n",
       "<style scoped>\n",
       "    .dataframe tbody tr th:only-of-type {\n",
       "        vertical-align: middle;\n",
       "    }\n",
       "\n",
       "    .dataframe tbody tr th {\n",
       "        vertical-align: top;\n",
       "    }\n",
       "\n",
       "    .dataframe thead th {\n",
       "        text-align: right;\n",
       "    }\n",
       "</style>\n",
       "<table border=\"1\" class=\"dataframe\">\n",
       "  <thead>\n",
       "    <tr style=\"text-align: right;\">\n",
       "      <th></th>\n",
       "      <th>0</th>\n",
       "      <th>1</th>\n",
       "      <th>2</th>\n",
       "      <th>3</th>\n",
       "      <th>4</th>\n",
       "      <th>5</th>\n",
       "      <th>6</th>\n",
       "      <th>7</th>\n",
       "      <th>8</th>\n",
       "      <th>9</th>\n",
       "      <th>...</th>\n",
       "      <th>290</th>\n",
       "      <th>291</th>\n",
       "      <th>292</th>\n",
       "      <th>293</th>\n",
       "      <th>294</th>\n",
       "      <th>295</th>\n",
       "      <th>296</th>\n",
       "      <th>297</th>\n",
       "      <th>298</th>\n",
       "      <th>299</th>\n",
       "    </tr>\n",
       "  </thead>\n",
       "  <tbody>\n",
       "    <tr>\n",
       "      <th>count</th>\n",
       "      <td>100000.000000</td>\n",
       "      <td>100000.000000</td>\n",
       "      <td>100000.000000</td>\n",
       "      <td>100000.000000</td>\n",
       "      <td>100000.000000</td>\n",
       "      <td>100000.000000</td>\n",
       "      <td>100000.000000</td>\n",
       "      <td>100000.000000</td>\n",
       "      <td>100000.000000</td>\n",
       "      <td>100000.000000</td>\n",
       "      <td>...</td>\n",
       "      <td>100000.000000</td>\n",
       "      <td>100000.000000</td>\n",
       "      <td>100000.000000</td>\n",
       "      <td>100000.000000</td>\n",
       "      <td>100000.000000</td>\n",
       "      <td>100000.000000</td>\n",
       "      <td>100000.000000</td>\n",
       "      <td>100000.000000</td>\n",
       "      <td>100000.000000</td>\n",
       "      <td>100000.000000</td>\n",
       "    </tr>\n",
       "    <tr>\n",
       "      <th>mean</th>\n",
       "      <td>10.803637</td>\n",
       "      <td>-1.917994</td>\n",
       "      <td>13.075489</td>\n",
       "      <td>-6.313184</td>\n",
       "      <td>0.213263</td>\n",
       "      <td>-0.930227</td>\n",
       "      <td>2.789115</td>\n",
       "      <td>-1.146147</td>\n",
       "      <td>-2.703712</td>\n",
       "      <td>-1.511301</td>\n",
       "      <td>...</td>\n",
       "      <td>-1.481764</td>\n",
       "      <td>4.123847</td>\n",
       "      <td>-8.752472</td>\n",
       "      <td>10.385097</td>\n",
       "      <td>2.527592</td>\n",
       "      <td>-3.163026</td>\n",
       "      <td>-5.571206</td>\n",
       "      <td>5.228125</td>\n",
       "      <td>-4.070264</td>\n",
       "      <td>2.085950</td>\n",
       "    </tr>\n",
       "    <tr>\n",
       "      <th>std</th>\n",
       "      <td>14.213573</td>\n",
       "      <td>10.624586</td>\n",
       "      <td>17.652499</td>\n",
       "      <td>11.048162</td>\n",
       "      <td>9.697049</td>\n",
       "      <td>6.572720</td>\n",
       "      <td>7.270471</td>\n",
       "      <td>7.774971</td>\n",
       "      <td>9.552806</td>\n",
       "      <td>9.665582</td>\n",
       "      <td>...</td>\n",
       "      <td>7.070668</td>\n",
       "      <td>9.933806</td>\n",
       "      <td>12.315424</td>\n",
       "      <td>14.855487</td>\n",
       "      <td>10.742198</td>\n",
       "      <td>9.554643</td>\n",
       "      <td>10.107585</td>\n",
       "      <td>9.609169</td>\n",
       "      <td>8.151074</td>\n",
       "      <td>9.186289</td>\n",
       "    </tr>\n",
       "    <tr>\n",
       "      <th>min</th>\n",
       "      <td>-22.403530</td>\n",
       "      <td>-659.835732</td>\n",
       "      <td>-25.008198</td>\n",
       "      <td>-400.704108</td>\n",
       "      <td>-190.610656</td>\n",
       "      <td>-135.553975</td>\n",
       "      <td>-130.685799</td>\n",
       "      <td>-135.427381</td>\n",
       "      <td>-203.014930</td>\n",
       "      <td>-462.116746</td>\n",
       "      <td>...</td>\n",
       "      <td>-383.926633</td>\n",
       "      <td>-62.727630</td>\n",
       "      <td>-515.739061</td>\n",
       "      <td>-98.664268</td>\n",
       "      <td>-156.266846</td>\n",
       "      <td>-145.879827</td>\n",
       "      <td>-309.518855</td>\n",
       "      <td>-263.828649</td>\n",
       "      <td>-214.339255</td>\n",
       "      <td>-151.980062</td>\n",
       "    </tr>\n",
       "    <tr>\n",
       "      <th>25%</th>\n",
       "      <td>3.187942</td>\n",
       "      <td>-4.936592</td>\n",
       "      <td>3.603138</td>\n",
       "      <td>-8.392971</td>\n",
       "      <td>-3.126317</td>\n",
       "      <td>-3.644074</td>\n",
       "      <td>-0.497755</td>\n",
       "      <td>-4.250301</td>\n",
       "      <td>-5.599930</td>\n",
       "      <td>-4.136183</td>\n",
       "      <td>...</td>\n",
       "      <td>-3.750654</td>\n",
       "      <td>-0.687959</td>\n",
       "      <td>-11.218338</td>\n",
       "      <td>2.788586</td>\n",
       "      <td>-2.527888</td>\n",
       "      <td>-6.140879</td>\n",
       "      <td>-8.109155</td>\n",
       "      <td>0.600743</td>\n",
       "      <td>-6.533600</td>\n",
       "      <td>-1.929063</td>\n",
       "    </tr>\n",
       "    <tr>\n",
       "      <th>50%</th>\n",
       "      <td>6.846116</td>\n",
       "      <td>-0.628860</td>\n",
       "      <td>7.893387</td>\n",
       "      <td>-3.996766</td>\n",
       "      <td>0.507453</td>\n",
       "      <td>-1.041205</td>\n",
       "      <td>1.910868</td>\n",
       "      <td>-1.393095</td>\n",
       "      <td>-1.713841</td>\n",
       "      <td>-0.730099</td>\n",
       "      <td>...</td>\n",
       "      <td>-0.865886</td>\n",
       "      <td>1.922965</td>\n",
       "      <td>-5.578458</td>\n",
       "      <td>6.625385</td>\n",
       "      <td>0.998418</td>\n",
       "      <td>-2.671618</td>\n",
       "      <td>-3.735360</td>\n",
       "      <td>3.312887</td>\n",
       "      <td>-2.753825</td>\n",
       "      <td>1.199670</td>\n",
       "    </tr>\n",
       "    <tr>\n",
       "      <th>75%</th>\n",
       "      <td>13.601962</td>\n",
       "      <td>2.954241</td>\n",
       "      <td>16.225452</td>\n",
       "      <td>-1.080557</td>\n",
       "      <td>4.192851</td>\n",
       "      <td>1.501098</td>\n",
       "      <td>5.005590</td>\n",
       "      <td>1.443865</td>\n",
       "      <td>1.473298</td>\n",
       "      <td>2.277680</td>\n",
       "      <td>...</td>\n",
       "      <td>1.656278</td>\n",
       "      <td>6.018357</td>\n",
       "      <td>-2.302417</td>\n",
       "      <td>13.182242</td>\n",
       "      <td>5.462177</td>\n",
       "      <td>0.135121</td>\n",
       "      <td>-0.729927</td>\n",
       "      <td>7.460024</td>\n",
       "      <td>-0.150910</td>\n",
       "      <td>5.033796</td>\n",
       "    </tr>\n",
       "    <tr>\n",
       "      <th>max</th>\n",
       "      <td>727.985827</td>\n",
       "      <td>128.427628</td>\n",
       "      <td>699.400545</td>\n",
       "      <td>65.317332</td>\n",
       "      <td>305.223385</td>\n",
       "      <td>212.755227</td>\n",
       "      <td>384.109523</td>\n",
       "      <td>456.174837</td>\n",
       "      <td>466.475724</td>\n",
       "      <td>240.384752</td>\n",
       "      <td>...</td>\n",
       "      <td>206.074268</td>\n",
       "      <td>360.657242</td>\n",
       "      <td>30.687339</td>\n",
       "      <td>509.422153</td>\n",
       "      <td>632.853809</td>\n",
       "      <td>913.224785</td>\n",
       "      <td>622.493698</td>\n",
       "      <td>233.238431</td>\n",
       "      <td>304.391424</td>\n",
       "      <td>220.812795</td>\n",
       "    </tr>\n",
       "  </tbody>\n",
       "</table>\n",
       "<p>8 rows × 300 columns</p>\n",
       "</div>"
      ],
      "text/plain": [
       "                 0              1              2              3    \\\n",
       "count  100000.000000  100000.000000  100000.000000  100000.000000   \n",
       "mean       10.803637      -1.917994      13.075489      -6.313184   \n",
       "std        14.213573      10.624586      17.652499      11.048162   \n",
       "min       -22.403530    -659.835732     -25.008198    -400.704108   \n",
       "25%         3.187942      -4.936592       3.603138      -8.392971   \n",
       "50%         6.846116      -0.628860       7.893387      -3.996766   \n",
       "75%        13.601962       2.954241      16.225452      -1.080557   \n",
       "max       727.985827     128.427628     699.400545      65.317332   \n",
       "\n",
       "                 4              5              6              7    \\\n",
       "count  100000.000000  100000.000000  100000.000000  100000.000000   \n",
       "mean        0.213263      -0.930227       2.789115      -1.146147   \n",
       "std         9.697049       6.572720       7.270471       7.774971   \n",
       "min      -190.610656    -135.553975    -130.685799    -135.427381   \n",
       "25%        -3.126317      -3.644074      -0.497755      -4.250301   \n",
       "50%         0.507453      -1.041205       1.910868      -1.393095   \n",
       "75%         4.192851       1.501098       5.005590       1.443865   \n",
       "max       305.223385     212.755227     384.109523     456.174837   \n",
       "\n",
       "                 8              9        ...                  290  \\\n",
       "count  100000.000000  100000.000000      ...        100000.000000   \n",
       "mean       -2.703712      -1.511301      ...            -1.481764   \n",
       "std         9.552806       9.665582      ...             7.070668   \n",
       "min      -203.014930    -462.116746      ...          -383.926633   \n",
       "25%        -5.599930      -4.136183      ...            -3.750654   \n",
       "50%        -1.713841      -0.730099      ...            -0.865886   \n",
       "75%         1.473298       2.277680      ...             1.656278   \n",
       "max       466.475724     240.384752      ...           206.074268   \n",
       "\n",
       "                 291            292            293            294  \\\n",
       "count  100000.000000  100000.000000  100000.000000  100000.000000   \n",
       "mean        4.123847      -8.752472      10.385097       2.527592   \n",
       "std         9.933806      12.315424      14.855487      10.742198   \n",
       "min       -62.727630    -515.739061     -98.664268    -156.266846   \n",
       "25%        -0.687959     -11.218338       2.788586      -2.527888   \n",
       "50%         1.922965      -5.578458       6.625385       0.998418   \n",
       "75%         6.018357      -2.302417      13.182242       5.462177   \n",
       "max       360.657242      30.687339     509.422153     632.853809   \n",
       "\n",
       "                 295            296            297            298  \\\n",
       "count  100000.000000  100000.000000  100000.000000  100000.000000   \n",
       "mean       -3.163026      -5.571206       5.228125      -4.070264   \n",
       "std         9.554643      10.107585       9.609169       8.151074   \n",
       "min      -145.879827    -309.518855    -263.828649    -214.339255   \n",
       "25%        -6.140879      -8.109155       0.600743      -6.533600   \n",
       "50%        -2.671618      -3.735360       3.312887      -2.753825   \n",
       "75%         0.135121      -0.729927       7.460024      -0.150910   \n",
       "max       913.224785     622.493698     233.238431     304.391424   \n",
       "\n",
       "                 299  \n",
       "count  100000.000000  \n",
       "mean        2.085950  \n",
       "std         9.186289  \n",
       "min      -151.980062  \n",
       "25%        -1.929063  \n",
       "50%         1.199670  \n",
       "75%         5.033796  \n",
       "max       220.812795  \n",
       "\n",
       "[8 rows x 300 columns]"
      ]
     },
     "execution_count": 129,
     "metadata": {},
     "output_type": "execute_result"
    }
   ],
   "source": [
    "####I attempt to find the statistic info (e.g. min, max, std...) of doc_vecs: reviews_sgn(100000*300)\n",
    "#doc_word: reviews_sgn(100000*300)统计量\n",
    "pd.DataFrame(vecs_sgns).describe()"
   ]
  },
  {
   "cell_type": "code",
   "execution_count": 130,
   "metadata": {},
   "outputs": [
    {
     "data": {
      "text/html": [
       "<div>\n",
       "<style scoped>\n",
       "    .dataframe tbody tr th:only-of-type {\n",
       "        vertical-align: middle;\n",
       "    }\n",
       "\n",
       "    .dataframe tbody tr th {\n",
       "        vertical-align: top;\n",
       "    }\n",
       "\n",
       "    .dataframe thead th {\n",
       "        text-align: right;\n",
       "    }\n",
       "</style>\n",
       "<table border=\"1\" class=\"dataframe\">\n",
       "  <thead>\n",
       "    <tr style=\"text-align: right;\">\n",
       "      <th></th>\n",
       "      <th>0</th>\n",
       "      <th>1</th>\n",
       "      <th>2</th>\n",
       "      <th>3</th>\n",
       "      <th>4</th>\n",
       "      <th>5</th>\n",
       "      <th>6</th>\n",
       "      <th>7</th>\n",
       "      <th>8</th>\n",
       "      <th>9</th>\n",
       "      <th>...</th>\n",
       "      <th>290</th>\n",
       "      <th>291</th>\n",
       "      <th>292</th>\n",
       "      <th>293</th>\n",
       "      <th>294</th>\n",
       "      <th>295</th>\n",
       "      <th>296</th>\n",
       "      <th>297</th>\n",
       "      <th>298</th>\n",
       "      <th>299</th>\n",
       "    </tr>\n",
       "  </thead>\n",
       "  <tbody>\n",
       "    <tr>\n",
       "      <th>count</th>\n",
       "      <td>100000.000000</td>\n",
       "      <td>100000.000000</td>\n",
       "      <td>100000.000000</td>\n",
       "      <td>100000.000000</td>\n",
       "      <td>100000.000000</td>\n",
       "      <td>100000.000000</td>\n",
       "      <td>100000.000000</td>\n",
       "      <td>100000.000000</td>\n",
       "      <td>100000.000000</td>\n",
       "      <td>100000.000000</td>\n",
       "      <td>...</td>\n",
       "      <td>100000.000000</td>\n",
       "      <td>100000.000000</td>\n",
       "      <td>100000.000000</td>\n",
       "      <td>100000.000000</td>\n",
       "      <td>100000.000000</td>\n",
       "      <td>100000.000000</td>\n",
       "      <td>100000.000000</td>\n",
       "      <td>100000.000000</td>\n",
       "      <td>100000.000000</td>\n",
       "      <td>100000.000000</td>\n",
       "    </tr>\n",
       "    <tr>\n",
       "      <th>mean</th>\n",
       "      <td>383.581609</td>\n",
       "      <td>-237.491820</td>\n",
       "      <td>24.228618</td>\n",
       "      <td>-5.389999</td>\n",
       "      <td>-59.684102</td>\n",
       "      <td>-47.607748</td>\n",
       "      <td>30.321604</td>\n",
       "      <td>-22.748717</td>\n",
       "      <td>-6.831839</td>\n",
       "      <td>-52.965723</td>\n",
       "      <td>...</td>\n",
       "      <td>2.243597</td>\n",
       "      <td>1.452724</td>\n",
       "      <td>-1.669828</td>\n",
       "      <td>-1.495837</td>\n",
       "      <td>0.470368</td>\n",
       "      <td>-3.099827</td>\n",
       "      <td>2.379512</td>\n",
       "      <td>-1.583207</td>\n",
       "      <td>1.224345</td>\n",
       "      <td>1.378461</td>\n",
       "    </tr>\n",
       "    <tr>\n",
       "      <th>std</th>\n",
       "      <td>458.666731</td>\n",
       "      <td>259.723426</td>\n",
       "      <td>118.446931</td>\n",
       "      <td>66.017235</td>\n",
       "      <td>81.607254</td>\n",
       "      <td>62.292212</td>\n",
       "      <td>60.997587</td>\n",
       "      <td>56.516851</td>\n",
       "      <td>50.467999</td>\n",
       "      <td>78.050432</td>\n",
       "      <td>...</td>\n",
       "      <td>8.947965</td>\n",
       "      <td>8.237613</td>\n",
       "      <td>9.342866</td>\n",
       "      <td>9.829500</td>\n",
       "      <td>8.609761</td>\n",
       "      <td>9.644686</td>\n",
       "      <td>8.261565</td>\n",
       "      <td>9.409446</td>\n",
       "      <td>8.578503</td>\n",
       "      <td>8.662484</td>\n",
       "    </tr>\n",
       "    <tr>\n",
       "      <th>min</th>\n",
       "      <td>0.000000</td>\n",
       "      <td>-12395.359909</td>\n",
       "      <td>-10056.815165</td>\n",
       "      <td>-2384.067223</td>\n",
       "      <td>-2210.643516</td>\n",
       "      <td>-3357.451288</td>\n",
       "      <td>-1072.785466</td>\n",
       "      <td>-3471.674173</td>\n",
       "      <td>-1101.070460</td>\n",
       "      <td>-3114.877347</td>\n",
       "      <td>...</td>\n",
       "      <td>-124.333236</td>\n",
       "      <td>-234.200473</td>\n",
       "      <td>-360.908073</td>\n",
       "      <td>-204.798170</td>\n",
       "      <td>-127.385520</td>\n",
       "      <td>-228.086252</td>\n",
       "      <td>-123.921771</td>\n",
       "      <td>-548.853690</td>\n",
       "      <td>-178.403833</td>\n",
       "      <td>-134.941267</td>\n",
       "    </tr>\n",
       "    <tr>\n",
       "      <th>25%</th>\n",
       "      <td>139.340700</td>\n",
       "      <td>-285.422729</td>\n",
       "      <td>3.222603</td>\n",
       "      <td>-20.113528</td>\n",
       "      <td>-81.364201</td>\n",
       "      <td>-63.971595</td>\n",
       "      <td>2.633204</td>\n",
       "      <td>-36.017659</td>\n",
       "      <td>-19.180741</td>\n",
       "      <td>-67.313938</td>\n",
       "      <td>...</td>\n",
       "      <td>-2.172923</td>\n",
       "      <td>-2.387382</td>\n",
       "      <td>-5.280361</td>\n",
       "      <td>-5.272793</td>\n",
       "      <td>-3.561990</td>\n",
       "      <td>-6.550924</td>\n",
       "      <td>-1.666746</td>\n",
       "      <td>-5.060666</td>\n",
       "      <td>-2.955505</td>\n",
       "      <td>-2.798117</td>\n",
       "    </tr>\n",
       "    <tr>\n",
       "      <th>50%</th>\n",
       "      <td>244.372911</td>\n",
       "      <td>-158.451244</td>\n",
       "      <td>23.191218</td>\n",
       "      <td>-0.363367</td>\n",
       "      <td>-42.643215</td>\n",
       "      <td>-34.609426</td>\n",
       "      <td>19.710370</td>\n",
       "      <td>-14.195645</td>\n",
       "      <td>-4.612873</td>\n",
       "      <td>-31.879558</td>\n",
       "      <td>...</td>\n",
       "      <td>1.581341</td>\n",
       "      <td>1.169167</td>\n",
       "      <td>-0.998015</td>\n",
       "      <td>-0.876696</td>\n",
       "      <td>0.300137</td>\n",
       "      <td>-2.049475</td>\n",
       "      <td>1.838972</td>\n",
       "      <td>-0.901924</td>\n",
       "      <td>0.749510</td>\n",
       "      <td>0.836860</td>\n",
       "    </tr>\n",
       "    <tr>\n",
       "      <th>75%</th>\n",
       "      <td>454.172218</td>\n",
       "      <td>-92.998579</td>\n",
       "      <td>50.846036</td>\n",
       "      <td>18.593560</td>\n",
       "      <td>-20.118392</td>\n",
       "      <td>-15.532371</td>\n",
       "      <td>45.620539</td>\n",
       "      <td>0.200599</td>\n",
       "      <td>7.381107</td>\n",
       "      <td>-12.890651</td>\n",
       "      <td>...</td>\n",
       "      <td>5.811290</td>\n",
       "      <td>4.878139</td>\n",
       "      <td>2.809393</td>\n",
       "      <td>3.169197</td>\n",
       "      <td>4.359484</td>\n",
       "      <td>1.819618</td>\n",
       "      <td>5.725626</td>\n",
       "      <td>2.775040</td>\n",
       "      <td>4.798000</td>\n",
       "      <td>4.833902</td>\n",
       "    </tr>\n",
       "    <tr>\n",
       "      <th>max</th>\n",
       "      <td>23301.461658</td>\n",
       "      <td>9.714351</td>\n",
       "      <td>2158.861216</td>\n",
       "      <td>1414.267199</td>\n",
       "      <td>4934.680890</td>\n",
       "      <td>1713.948906</td>\n",
       "      <td>4502.891442</td>\n",
       "      <td>961.572688</td>\n",
       "      <td>3634.215471</td>\n",
       "      <td>556.731541</td>\n",
       "      <td>...</td>\n",
       "      <td>232.460385</td>\n",
       "      <td>210.498529</td>\n",
       "      <td>359.677637</td>\n",
       "      <td>305.777489</td>\n",
       "      <td>193.464977</td>\n",
       "      <td>214.777268</td>\n",
       "      <td>153.946080</td>\n",
       "      <td>165.300491</td>\n",
       "      <td>233.423266</td>\n",
       "      <td>308.694432</td>\n",
       "    </tr>\n",
       "  </tbody>\n",
       "</table>\n",
       "<p>8 rows × 300 columns</p>\n",
       "</div>"
      ],
      "text/plain": [
       "                 0              1              2              3    \\\n",
       "count  100000.000000  100000.000000  100000.000000  100000.000000   \n",
       "mean      383.581609    -237.491820      24.228618      -5.389999   \n",
       "std       458.666731     259.723426     118.446931      66.017235   \n",
       "min         0.000000  -12395.359909  -10056.815165   -2384.067223   \n",
       "25%       139.340700    -285.422729       3.222603     -20.113528   \n",
       "50%       244.372911    -158.451244      23.191218      -0.363367   \n",
       "75%       454.172218     -92.998579      50.846036      18.593560   \n",
       "max     23301.461658       9.714351    2158.861216    1414.267199   \n",
       "\n",
       "                 4              5              6              7    \\\n",
       "count  100000.000000  100000.000000  100000.000000  100000.000000   \n",
       "mean      -59.684102     -47.607748      30.321604     -22.748717   \n",
       "std        81.607254      62.292212      60.997587      56.516851   \n",
       "min     -2210.643516   -3357.451288   -1072.785466   -3471.674173   \n",
       "25%       -81.364201     -63.971595       2.633204     -36.017659   \n",
       "50%       -42.643215     -34.609426      19.710370     -14.195645   \n",
       "75%       -20.118392     -15.532371      45.620539       0.200599   \n",
       "max      4934.680890    1713.948906    4502.891442     961.572688   \n",
       "\n",
       "                 8              9        ...                  290  \\\n",
       "count  100000.000000  100000.000000      ...        100000.000000   \n",
       "mean       -6.831839     -52.965723      ...             2.243597   \n",
       "std        50.467999      78.050432      ...             8.947965   \n",
       "min     -1101.070460   -3114.877347      ...          -124.333236   \n",
       "25%       -19.180741     -67.313938      ...            -2.172923   \n",
       "50%        -4.612873     -31.879558      ...             1.581341   \n",
       "75%         7.381107     -12.890651      ...             5.811290   \n",
       "max      3634.215471     556.731541      ...           232.460385   \n",
       "\n",
       "                 291            292            293            294  \\\n",
       "count  100000.000000  100000.000000  100000.000000  100000.000000   \n",
       "mean        1.452724      -1.669828      -1.495837       0.470368   \n",
       "std         8.237613       9.342866       9.829500       8.609761   \n",
       "min      -234.200473    -360.908073    -204.798170    -127.385520   \n",
       "25%        -2.387382      -5.280361      -5.272793      -3.561990   \n",
       "50%         1.169167      -0.998015      -0.876696       0.300137   \n",
       "75%         4.878139       2.809393       3.169197       4.359484   \n",
       "max       210.498529     359.677637     305.777489     193.464977   \n",
       "\n",
       "                 295            296            297            298  \\\n",
       "count  100000.000000  100000.000000  100000.000000  100000.000000   \n",
       "mean       -3.099827       2.379512      -1.583207       1.224345   \n",
       "std         9.644686       8.261565       9.409446       8.578503   \n",
       "min      -228.086252    -123.921771    -548.853690    -178.403833   \n",
       "25%        -6.550924      -1.666746      -5.060666      -2.955505   \n",
       "50%        -2.049475       1.838972      -0.901924       0.749510   \n",
       "75%         1.819618       5.725626       2.775040       4.798000   \n",
       "max       214.777268     153.946080     165.300491     233.423266   \n",
       "\n",
       "                 299  \n",
       "count  100000.000000  \n",
       "mean        1.378461  \n",
       "std         8.662484  \n",
       "min      -134.941267  \n",
       "25%        -2.798117  \n",
       "50%         0.836860  \n",
       "75%         4.833902  \n",
       "max       308.694432  \n",
       "\n",
       "[8 rows x 300 columns]"
      ]
     },
     "execution_count": 130,
     "metadata": {},
     "output_type": "execute_result"
    }
   ],
   "source": [
    "####I attempt to find the statistic info (e.g. min, max, std...) of doc_vecs: vecs_sppmi(100000*300)\n",
    "#doc_word: vecs_sppmi(100000*300)统计量\n",
    "pd.DataFrame(vecs_sppmi).describe()"
   ]
  },
  {
   "cell_type": "code",
   "execution_count": 131,
   "metadata": {},
   "outputs": [],
   "source": [
    "####I attempt to scale doc_vecs: vecs_sgns, vecs_sppmi by minmax\n",
    "from sklearn.preprocessing import MinMaxScaler\n",
    "minmaxscaler=MinMaxScaler()\n",
    "vecs_sgns_minmax=minmaxscaler.fit_transform(vecs_sgns)\n",
    "vecs_sppmi_minmax=minmaxscaler.fit_transform(vecs_sppmi)"
   ]
  },
  {
   "cell_type": "code",
   "execution_count": 132,
   "metadata": {},
   "outputs": [],
   "source": [
    "####I attempt to scale doc_vecs: vecs_sgns, vecs_sppmi by standard\n",
    "from sklearn.preprocessing import StandardScaler\n",
    "standscaler=StandardScaler()\n",
    "vecs_sgns_std=standscaler.fit_transform(vecs_sgns)\n",
    "vecs_sppmi_std=standscaler.fit_transform(vecs_sppmi)"
   ]
  },
  {
   "cell_type": "code",
   "execution_count": 133,
   "metadata": {},
   "outputs": [],
   "source": [
    "####I attempt to scale doc_vecs: vecs_sgns, vecs_sppmi by log\n",
    "#log估计涉及到x为负的问题，所以用了minmax\n",
    "from sklearn.preprocessing import FunctionTransformer\n",
    "log_trans = FunctionTransformer(np.log1p, validate=True)\n",
    "vecs_sgns_log=log_trans.fit_transform(vecs_sgns_minmax)\n",
    "vecs_sppmi_log=log_trans.fit_transform(vecs_sppmi_minmax)"
   ]
  },
  {
   "cell_type": "code",
   "execution_count": 134,
   "metadata": {
    "scrolled": true
   },
   "outputs": [
    {
     "name": "stderr",
     "output_type": "stream",
     "text": [
      "/opt/conda/lib/python3.6/site-packages/sklearn/preprocessing/_function_transformer.py:201: RuntimeWarning: overflow encountered in expm1\n",
      "  **(kw_args if kw_args else {}))\n",
      "/opt/conda/lib/python3.6/site-packages/sklearn/preprocessing/_function_transformer.py:201: RuntimeWarning: overflow encountered in expm1\n",
      "  **(kw_args if kw_args else {}))\n"
     ]
    }
   ],
   "source": [
    "####I attempt to scale doc_vecs: vecs_sgns, vecs_sppmi by exponential\n",
    "exp_trans = FunctionTransformer(np.expm1, validate=True)\n",
    "vecs_sgns_exp=exp_trans.fit_transform(vecs_sgns)\n",
    "vecs_sppmi_exp=exp_trans.fit_transform(vecs_sppmi)"
   ]
  },
  {
   "cell_type": "code",
   "execution_count": 135,
   "metadata": {},
   "outputs": [],
   "source": [
    "####I attempt to scale doc_vecs: vecs_sgns, vecs_sppmi by binary\n",
    "from sklearn.preprocessing import Binarizer\n",
    "binarizer = Binarizer()\n",
    "vecs_sgns_bin=binarizer.fit_transform(vecs_sgns)\n",
    "vecs_sppmi_bin=binarizer.fit_transform(vecs_sppmi)"
   ]
  },
  {
   "cell_type": "code",
   "execution_count": 136,
   "metadata": {},
   "outputs": [],
   "source": [
    "####I attempt to scale doc_vecs: vecs_sgns, vecs_sppmi by threshold\n",
    "binarizer = Binarizer(threshold=pd.DataFrame(vecs_sgns).mean().tolist())\n",
    "vecs_sgns_bimean=binarizer.fit_transform(vecs_sgns)\n",
    "binarizer = Binarizer(threshold=pd.DataFrame(vecs_sppmi).mean().tolist())\n",
    "vecs_sppmi_bimean=binarizer.fit_transform(vecs_sppmi)"
   ]
  },
  {
   "cell_type": "markdown",
   "metadata": {
    "deletable": false,
    "editable": false,
    "nbgrader": {
     "checksum": "9fc0a48c94876daac660f4fe9b186af0",
     "grade": false,
     "grade_id": "clustering_spec",
     "locked": true,
     "schema_version": 1,
     "solution": false
    }
   },
   "source": [
    "### Step 3.2: Clustering\n",
    "\n",
    "What is the distribution of ratings? How else might this dataset be artificially balanced? What patterns can you find? Are there detectable clusters? Are some ratings easier to classify than others?"
   ]
  },
  {
   "cell_type": "raw",
   "metadata": {
    "deletable": false,
    "nbgrader": {
     "checksum": "8ed12980942f15e0f230455f51b47565",
     "grade": true,
     "grade_id": "clustering",
     "locked": false,
     "points": 15,
     "schema_version": 1,
     "solution": true
    }
   },
   "source": [
    "# [y.tolist().count(x) for x in y.unique()]\n",
    "# [y.tolist().count(i) for i in np.unique(y.tolist())]\n",
    "\n",
    "#raw data:reviews_bow cluster\n",
    "#这好像太大了跑不出来\n",
    "import numpy as np\n",
    "from sklearn.model_selection import train_test_split\n",
    "from sklearn.cluster import KMeans\n",
    "\n",
    "doc_term_dens = densify(reviews_bow, len(reviews_dict))\n",
    "print(doc_term_dens.shape)\n",
    "x_doc_vects=np.hstack((term_doc_dens,reviews_times))\n",
    "x_train, x_test, y_train, y_test = train_test_split(x_doc_vects,y)\n",
    "kmeans = KMeans(n_clusters=5).fit(x_train)\n",
    "kmeans.labels_[:10]\n",
    "kmeans.cluster_centers_"
   ]
  },
  {
   "cell_type": "code",
   "execution_count": 137,
   "metadata": {},
   "outputs": [
    {
     "data": {
      "text/plain": [
       "array([[0.77056452, 0.20819892, 0.58575269, ..., 0.33642473, 0.30134409,\n",
       "        0.35443548],\n",
       "       [0.84645206, 0.28757355, 0.88944271, ..., 0.78601592, 0.32384908,\n",
       "        0.69865005],\n",
       "       [0.24172929, 0.54799721, 0.24490587, ..., 0.36515069, 0.54249632,\n",
       "        0.50213063],\n",
       "       [0.40978125, 0.81607914, 0.45492546, ..., 0.63745297, 0.61320886,\n",
       "        0.47749756],\n",
       "       [0.01838008, 0.69558592, 0.00614256, ..., 0.0624256 , 0.79753345,\n",
       "        0.26355888],\n",
       "       [0.01371571, 0.91072319, 0.01404821, ..., 0.19808811, 0.87348296,\n",
       "        0.33059019]])"
      ]
     },
     "execution_count": 137,
     "metadata": {},
     "output_type": "execute_result"
    }
   ],
   "source": [
    "#### I attempt to use cluster to distinguish data (e.g. one cluster may have more data on 1 star)\n",
    "#### here I use vecs_sgns data\n",
    "#### I find scaled data with threshold=mean and 5 or 6 clusters distinct data well\n",
    "\n",
    "import numpy as np\n",
    "from sklearn.model_selection import train_test_split\n",
    "from sklearn.cluster import KMeans\n",
    "\n",
    "#processed data:vecs_sgn cluster\n",
    "# x_doc_vects=np.hstack((vecs_sgns,reviews_times))\n",
    "clust_num=6\n",
    "x_train, x_test, y_train, y_test = train_test_split(vecs_sgns_bimean,y)\n",
    "kmeans = KMeans(n_clusters=clust_num).fit(x_train)\n",
    "kmeans.cluster_centers_"
   ]
  },
  {
   "cell_type": "raw",
   "metadata": {},
   "source": [
    "from collections import Counter\n",
    "Counter(y_train)"
   ]
  },
  {
   "cell_type": "code",
   "execution_count": 138,
   "metadata": {},
   "outputs": [
    {
     "data": {
      "image/png": "[encoded data removed]",
      "text/plain": [
       "<Figure size 720x576 with 1 Axes>"
      ]
     },
     "metadata": {
      "needs_background": "light"
     },
     "output_type": "display_data"
    },
    {
     "data": {
      "image/png": "[encoded data removed]",
      "text/plain": [
       "<Figure size 720x576 with 1 Axes>"
      ]
     },
     "metadata": {
      "needs_background": "light"
     },
     "output_type": "display_data"
    }
   ],
   "source": [
    "#### I plot the number of data in each kmeans cluster with each actual star\n",
    "#### cluster 0 and 2 are good at identify 3-star, cluster 3 is good at identify 1-star and 5-star\n",
    "\n",
    "import pandas as pd\n",
    "import matplotlib as plt\n",
    "import matplotlib.pyplot as plt\n",
    "import math\n",
    "train_group=pd.DataFrame({'kmeans':kmeans.labels_,'actual':y_train})\n",
    "sgns_train_result=train_group.groupby(['actual','kmeans']).size()\n",
    "\n",
    "test_group=pd.DataFrame({'kmeans':kmeans.predict(x_test),'actual':y_test})\n",
    "sgns_test_result=test_group.groupby(['actual','kmeans']).size()\n",
    "width=10/(clust_num*5*2.5)\n",
    "\n",
    "plt.figure(figsize=(10,8))\n",
    "plt.xticks(range(clust_num))\n",
    "for i in range(1,6):\n",
    "    plt.bar(sgns_train_result[i].index+(i-1)*width,sgns_train_result[i],width=width,label='star'+str(i))\n",
    "plt.ylabel('number')\n",
    "plt.xlabel('cluster')\n",
    "plt.legend(loc='best')\n",
    "plt.show()\n",
    "\n",
    "plt.figure(figsize=(10,8))\n",
    "plt.xticks(range(clust_num))\n",
    "for i in range(1,6):\n",
    "    plt.bar(sgns_test_result[i].index+(i-1)*width,sgns_test_result[i],width=width,label='star'+str(i))\n",
    "plt.ylabel('number')\n",
    "plt.xlabel('cluster')\n",
    "plt.legend(loc='best')\n",
    "plt.show()\n"
   ]
  },
  {
   "cell_type": "code",
   "execution_count": 139,
   "metadata": {},
   "outputs": [
    {
     "data": {
      "text/plain": [
       "array([[0.86836709, 0.08177044, 0.70527632, ..., 0.43445861, 0.53033258,\n",
       "        0.54763691],\n",
       "       [0.00128562, 0.99962503, 0.23944718, ..., 0.65309621, 0.39066852,\n",
       "        0.36742018],\n",
       "       [0.16164886, 0.80306464, 0.81881947, ..., 0.54343369, 0.36959102,\n",
       "        0.44340132],\n",
       "       [0.34927265, 0.62480196, 0.24211436, ..., 0.55739594, 0.55710788,\n",
       "        0.46291229],\n",
       "       [0.09753068, 0.9365032 , 0.43190739, ..., 0.55870224, 0.48313211,\n",
       "        0.46037661]])"
      ]
     },
     "execution_count": 139,
     "metadata": {},
     "output_type": "execute_result"
    }
   ],
   "source": [
    "#### I attempt to use cluster to distinguish data (e.g. one cluster may have more data on 1 star)\n",
    "#### here I use vecs_sppmi data\n",
    "#### I find scaled data with threshold=mean and 5 or 6 clusters distinct data well\n",
    "\n",
    "#processed data:vecs_sppmi cluster\n",
    "# x_doc_vects=np.hstack((vecs_sppmi,reviews_times))\n",
    "clust_num=5\n",
    "x_train, x_test, y_train, y_test = train_test_split(vecs_sppmi_bimean,y)\n",
    "kmeans = KMeans(n_clusters=clust_num).fit(x_train)\n",
    "kmeans.cluster_centers_"
   ]
  },
  {
   "cell_type": "code",
   "execution_count": 140,
   "metadata": {},
   "outputs": [
    {
     "data": {
      "image/png": "[encoded data removed]",
      "text/plain": [
       "<Figure size 720x576 with 1 Axes>"
      ]
     },
     "metadata": {
      "needs_background": "light"
     },
     "output_type": "display_data"
    },
    {
     "data": {
      "image/png": "[encoded data removed]",
      "text/plain": [
       "<Figure size 720x576 with 1 Axes>"
      ]
     },
     "metadata": {
      "needs_background": "light"
     },
     "output_type": "display_data"
    }
   ],
   "source": [
    "#### I plot the number of data in each kmeans cluster with each actual star\n",
    "#### cluster 1 is good at identify 3-star, cluster 2 is good at identify 1-star\n",
    "\n",
    "train_group=pd.DataFrame({'kmeans':kmeans.labels_,'actual':y_train})\n",
    "sppmi_train_result=train_group.groupby(['actual','kmeans']).size()\n",
    "\n",
    "test_group=pd.DataFrame({'kmeans':kmeans.predict(x_test),'actual':y_test})\n",
    "sppmi_test_result=test_group.groupby(['actual','kmeans']).size()\n",
    "width=10/(clust_num*5*2.5)\n",
    "\n",
    "plt.figure(figsize=(10,8))\n",
    "plt.xticks(range(clust_num))\n",
    "for i in range(1,6):\n",
    "    plt.bar(sppmi_train_result[i].index+(i-1)*width,sppmi_train_result[i],width=width,label='star'+str(i))\n",
    "plt.ylabel('number')\n",
    "plt.xlabel('cluster')\n",
    "plt.legend(loc='best')\n",
    "plt.show()\n",
    "\n",
    "plt.figure(figsize=(10,8))\n",
    "plt.xticks(range(clust_num))\n",
    "for i in range(1,6):\n",
    "    plt.bar(sppmi_test_result[i].index+(i-1)*width,sppmi_test_result[i],width=width,label='star'+str(i))\n",
    "plt.ylabel('number')\n",
    "plt.xlabel('cluster')\n",
    "plt.legend(loc='best')\n",
    "plt.show()"
   ]
  },
  {
   "cell_type": "markdown",
   "metadata": {
    "deletable": false,
    "editable": false,
    "nbgrader": {
     "checksum": "74b55f7e2f5783bc5edf0acb9d5e01cd",
     "grade": false,
     "grade_id": "regression_spec",
     "locked": true,
     "schema_version": 1,
     "solution": false
    }
   },
   "source": [
    "### Step 3.3: Regression\n",
    "\n",
    "In the baseline models, star ratings were treated as categorical variables. So the models had no sense that a rating of 4 stars is in between ratings of 3 stars and 5 stars. What are the advantages and disadvantages of that approach? If you reformulate the problem as regression, how do you measure success? Is that way of measuring fair to the classifiers?"
   ]
  },
  {
   "cell_type": "code",
   "execution_count": 141,
   "metadata": {
    "deletable": false,
    "nbgrader": {
     "checksum": "9c225f9b0c5fee5831baadad3b20c727",
     "grade": true,
     "grade_id": "regression",
     "locked": false,
     "points": 15,
     "schema_version": 1,
     "solution": true
    }
   },
   "outputs": [],
   "source": [
    "#### I attampt to use linear regression to predict score\n",
    "#### I find scaled data with threshold=mean has the best performance here\n",
    "#### I find vecs_sppmi has a better performance but even a little below 0.5 for the score of test data\n",
    "\n",
    "from sklearn.linear_model import LinearRegression\n",
    "\n",
    "def linear_evaluate(x_doc_vecs,y):\n",
    "    x_train, x_test, y_train, y_test = train_test_split(x_doc_vecs,y)\n",
    "    lr = LinearRegression()\n",
    "    src=lr.fit(x_train, y_train) \n",
    "    pred=lr.predict(x_test)\n",
    "    scores=lr.score(x_test,y_test)\n",
    "    return scores"
   ]
  },
  {
   "cell_type": "code",
   "execution_count": 142,
   "metadata": {},
   "outputs": [],
   "source": [
    "scores_minmax=linear_evaluate(vecs_sgns_minmax,y)\n",
    "# scores_std=linear_evaluate(vecs_sgns_std,y)\n",
    "scores_log=linear_evaluate(vecs_sgns_log,y)\n",
    "# scores_exp=linear_evaluate(vecs_sgns_exp,y)\n",
    "# scores_bin=linear_evaluate(vecs_sgns_bin,y)\n",
    "scores_bimean=linear_evaluate(vecs_sgns_bimean,y)"
   ]
  },
  {
   "cell_type": "code",
   "execution_count": 143,
   "metadata": {},
   "outputs": [
    {
     "name": "stdout",
     "output_type": "stream",
     "text": [
      "0.3551544817766955\n",
      "0.3574561210494449\n",
      "0.4174911540396297\n"
     ]
    }
   ],
   "source": [
    "print(scores_minmax)\n",
    "# print(scores_std)\n",
    "print(scores_log)\n",
    "# print(scores_exp)\n",
    "# print(scores_bin)\n",
    "print(scores_bimean)"
   ]
  },
  {
   "cell_type": "code",
   "execution_count": 144,
   "metadata": {},
   "outputs": [],
   "source": [
    "scores_minmax=linear_evaluate(vecs_sppmi_minmax,y)\n",
    "# scores_std=linear_evaluate(vecs_sppmi_std,y)\n",
    "scores_log=linear_evaluate(vecs_sppmi_log,y)\n",
    "# scores_exp=linear_evaluate(vecs_sppmi_exp,y)\n",
    "# scores_bin=linear_evaluate(vecs_sppmi_bin,y)\n",
    "scores_bimean=linear_evaluate(vecs_sppmi_bimean,y)"
   ]
  },
  {
   "cell_type": "code",
   "execution_count": 145,
   "metadata": {},
   "outputs": [
    {
     "name": "stdout",
     "output_type": "stream",
     "text": [
      "0.3617329316535644\n",
      "0.35661469989122696\n",
      "0.47543784714081067\n"
     ]
    }
   ],
   "source": [
    "print(scores_minmax)\n",
    "# print(scores_std)\n",
    "print(scores_log)\n",
    "# print(scores_exp)\n",
    "# print(scores_bin)\n",
    "print(scores_bimean)"
   ]
  },
  {
   "cell_type": "markdown",
   "metadata": {
    "deletable": false,
    "editable": false,
    "nbgrader": {
     "checksum": "a38d1b324967f26d5407776096a9ca52",
     "grade": false,
     "grade_id": "time_series_spec",
     "locked": true,
     "schema_version": 1,
     "solution": false
    }
   },
   "source": [
    "### Step 3.4: Time Series\n",
    "\n",
    "Since real products were rated over time, these star ratings were likely subject to trends. Can these trends be leveraged? What curve would explain the trends without requiring too many parameters? Can you use an autoregressor? Can you use a moving average? Are the data stationary?"
   ]
  },
  {
   "cell_type": "code",
   "execution_count": 146,
   "metadata": {
    "deletable": false,
    "nbgrader": {
     "checksum": "58872db77812cb2b8395c5d162bba31f",
     "grade": true,
     "grade_id": "time_series",
     "locked": false,
     "points": 15,
     "schema_version": 1,
     "solution": true
    }
   },
   "outputs": [],
   "source": [
    "import matplotlib.pyplot as plt\n",
    "\n",
    "time_star=pd.Series(y,index=converted_times).rename_axis('time')"
   ]
  },
  {
   "cell_type": "raw",
   "metadata": {},
   "source": [
    "i=0\n",
    "# print(type(time_star.resample('M')))\n",
    "for k in np.array(time_star.resample('M').apply(lambda x: print(x,'----'))):\n",
    "#     print(k[0],'-------------------')\n",
    "    i+=1\n",
    "    if i>0:\n",
    "        break"
   ]
  },
  {
   "cell_type": "code",
   "execution_count": 147,
   "metadata": {},
   "outputs": [
    {
     "data": {
      "image/png": "[encoded data removed]",
      "text/plain": [
       "<Figure size 432x288 with 1 Axes>"
      ]
     },
     "metadata": {
      "needs_background": "light"
     },
     "output_type": "display_data"
    }
   ],
   "source": [
    "#### I plot the mean rating stars for every year and every month\n",
    "\n",
    "plt.plot(time_star.resample('A').apply(np.mean),label='month_mean')\n",
    "plt.plot(time_star.resample('M').apply(np.mean),label='year_mean')\n",
    "plt.ylabel('score')\n",
    "plt.xlabel('year')\n",
    "plt.legend(loc='best')\n",
    "plt.show()"
   ]
  },
  {
   "cell_type": "code",
   "execution_count": 148,
   "metadata": {},
   "outputs": [
    {
     "data": {
      "image/png": "[encoded data removed]",
      "text/plain": [
       "<Figure size 432x288 with 1 Axes>"
      ]
     },
     "metadata": {
      "needs_background": "light"
     },
     "output_type": "display_data"
    }
   ],
   "source": [
    "#### I plot the average rating stars of 12 months in each year minus the average rating stars of that year\n",
    "#### sorry I cannot find any pattern\n",
    "\n",
    "time_star_rs=time_star.resample('M').apply(np.mean)\n",
    "for i in range(2002,2014):\n",
    "    year_mean=time_star.resample('A').apply(np.mean)[str(i)].values[0]\n",
    "    plt.plot(range(1,13),time_star_rs[str(i)]-year_mean,label=str(i))\n",
    "plt.ylabel('score_scaled')\n",
    "plt.xlabel('month')\n",
    "plt.legend(bbox_to_anchor=(1.05, 1), loc=2, borderaxespad=0.)\n",
    "plt.show()"
   ]
  },
  {
   "cell_type": "raw",
   "metadata": {},
   "source": [
    "rolmean = time_star['2012-01'].sort_index().rolling(center=False,window='7D').mean()\n",
    "rolstd = time_star['2012-01'].sort_index().rolling(center=False,window='7D',min_periods=30).std()\n",
    "\n",
    "orig = plt.plot(time_star['2012-01'].sort_index(), color='blue',label='Original')\n",
    "mean = plt.plot(rolmean, color='red', label='Rolling Mean')\n",
    "std = plt.plot(rolstd, color='black', label = 'Rolling Std')\n",
    "plt.show()"
   ]
  },
  {
   "cell_type": "markdown",
   "metadata": {
    "deletable": false,
    "editable": false,
    "nbgrader": {
     "checksum": "1f9b1dfa3c0546987f0bc762831c10a4",
     "grade": false,
     "grade_id": "neural_spec",
     "locked": true,
     "schema_version": 1,
     "solution": false
    }
   },
   "source": [
    "### Step 3.5: Neural networks\n",
    "\n",
    "The baseline models were are random forests. What other algorithms could be used? In a neural network, how many layers and nodes? Any convolutions or recurrences? How do you keep the model from overfitting? What regularization is appropriate? Is the task too hard or too easy for a neural network?"
   ]
  },
  {
   "cell_type": "code",
   "execution_count": 149,
   "metadata": {
    "deletable": false,
    "nbgrader": {
     "checksum": "e5846c031eecd85f866011905c4682f9",
     "grade": true,
     "grade_id": "neural",
     "locked": false,
     "points": 15,
     "schema_version": 1,
     "solution": true
    }
   },
   "outputs": [],
   "source": [
    "#### I attempt to use NN here to do the classification\n",
    "#### NN with four hidden layer, around 12 neuros each layer perform better\n",
    "#### for scaled data, I find minmax or standard perform better\n",
    "#### for sgns and sppmi data, I find sppmi perform better\n",
    "\n",
    "from sklearn.neural_network import MLPClassifier\n",
    "from sklearn.model_selection import train_test_split\n",
    "def neural_evaluate(x_doc_vecs,y):\n",
    "    x_train, x_test, y_train, y_test = train_test_split(x_doc_vecs,y)\n",
    "    scores=[]\n",
    "    for i in range(5,12):\n",
    "#         print(max(2*i,1))\n",
    "        nn = MLPClassifier(solver='lbfgs', alpha=1e-5,hidden_layer_sizes=(4, max(1,2*i)), random_state=1)\n",
    "        src=nn.fit(x_train, y_train) \n",
    "        pred=nn.predict(x_test)\n",
    "        scores.append(nn.score(x_test,y_test))\n",
    "    return scores"
   ]
  },
  {
   "cell_type": "code",
   "execution_count": 150,
   "metadata": {},
   "outputs": [],
   "source": [
    "# scores_minmax=neural_evaluate(vecs_sgns_minmax,y)\n",
    "scores_std=neural_evaluate(vecs_sgns_std,y)\n",
    "# scores_log=neural_evaluate(vecs_sgns_log,y)\n",
    "# scores_exp=neural_evaluate(vecs_sgns_exp,y)\n",
    "# scores_bin=neural_evaluate(vecs_sgns_bin,y)\n",
    "scores_bimean=neural_evaluate(vecs_sgns_bimean,y)"
   ]
  },
  {
   "cell_type": "code",
   "execution_count": 151,
   "metadata": {},
   "outputs": [
    {
     "name": "stdout",
     "output_type": "stream",
     "text": [
      "[0.78648, 0.79, 0.7848, 0.78732, 0.78776, 0.78888, 0.78872] [0.7004, 0.606, 0.63064, 0.48108, 0.1982, 0.60504, 0.73092]\n"
     ]
    }
   ],
   "source": [
    "print(scores_std,scores_bimean)"
   ]
  },
  {
   "cell_type": "code",
   "execution_count": 152,
   "metadata": {},
   "outputs": [],
   "source": [
    "# scores_minmax=neural_evaluate(vecs_sppmi_minmax,y)\n",
    "scores_std=neural_evaluate(vecs_sppmi_std,y)\n",
    "# scores_log=neural_evaluate(vecs_sppmi_log,y)\n",
    "# scores_exp=neural_evaluate(vecs_sppmi_exp,y)\n",
    "# scores_bin=neural_evaluate(vecs_sppmi_bin,y)\n",
    "scores_bimean=neural_evaluate(vecs_sppmi_bimean,y)"
   ]
  },
  {
   "cell_type": "code",
   "execution_count": 153,
   "metadata": {},
   "outputs": [
    {
     "name": "stdout",
     "output_type": "stream",
     "text": [
      "[0.84692, 0.8482, 0.84844, 0.84748, 0.8468, 0.84992, 0.84772] [0.65044, 0.65836, 0.70704, 0.64416, 0.19872, 0.49852, 0.49844]\n"
     ]
    }
   ],
   "source": [
    "print(scores_std,scores_bimean)"
   ]
  },
  {
   "cell_type": "markdown",
   "metadata": {
    "deletable": false,
    "editable": false,
    "nbgrader": {
     "checksum": "5089e89df3a1b054209f4cd0650424c2",
     "grade": false,
     "grade_id": "other_spec",
     "locked": true,
     "schema_version": 1,
     "solution": false
    }
   },
   "source": [
    "### Step 3.6: Other enhancements\n",
    "\n",
    "You may use any other techniques from this class and beyond. Feel free to explore!"
   ]
  },
  {
   "cell_type": "code",
   "execution_count": null,
   "metadata": {
    "deletable": false,
    "nbgrader": {
     "checksum": "abf0e1a7488d25fac513191b3ade3352",
     "grade": true,
     "grade_id": "other",
     "locked": false,
     "points": 15,
     "schema_version": 1,
     "solution": true
    }
   },
   "outputs": [],
   "source": []
  },
  {
   "cell_type": "code",
   "execution_count": 158,
   "metadata": {},
   "outputs": [],
   "source": [
    "#### I attempt to use SVM classification but it does not work well here\n",
    "#### SVM has very low performance\n",
    "\n",
    "from sklearn import svm\n",
    "from sklearn.model_selection import train_test_split\n",
    "\n",
    "#svm classification\n",
    "def svm_evaluate(x_doc_vecs,y):\n",
    "    x_train, x_test, y_train, y_test = train_test_split(x_doc_vecs,y)\n",
    "    scores=[]\n",
    "    for i in range(10):\n",
    "        svm_ = svm.SVC(gamma='scale',max_iter=10*i,C=1.0)\n",
    "        src=svm_.fit(x_train, y_train) \n",
    "        pred=svm_.predict(x_test)\n",
    "        scores.append(svm_.score(x_test,y_test))\n",
    "    return scores\n"
   ]
  },
  {
   "cell_type": "code",
   "execution_count": 159,
   "metadata": {},
   "outputs": [
    {
     "name": "stderr",
     "output_type": "stream",
     "text": [
      "/opt/conda/lib/python3.6/site-packages/sklearn/svm/base.py:244: ConvergenceWarning: Solver terminated early (max_iter=0).  Consider pre-processing your data with StandardScaler or MinMaxScaler.\n",
      "  % self.max_iter, ConvergenceWarning)\n",
      "/opt/conda/lib/python3.6/site-packages/sklearn/svm/base.py:244: ConvergenceWarning: Solver terminated early (max_iter=10).  Consider pre-processing your data with StandardScaler or MinMaxScaler.\n",
      "  % self.max_iter, ConvergenceWarning)\n",
      "/opt/conda/lib/python3.6/site-packages/sklearn/svm/base.py:244: ConvergenceWarning: Solver terminated early (max_iter=20).  Consider pre-processing your data with StandardScaler or MinMaxScaler.\n",
      "  % self.max_iter, ConvergenceWarning)\n",
      "/opt/conda/lib/python3.6/site-packages/sklearn/svm/base.py:244: ConvergenceWarning: Solver terminated early (max_iter=30).  Consider pre-processing your data with StandardScaler or MinMaxScaler.\n",
      "  % self.max_iter, ConvergenceWarning)\n",
      "/opt/conda/lib/python3.6/site-packages/sklearn/svm/base.py:244: ConvergenceWarning: Solver terminated early (max_iter=40).  Consider pre-processing your data with StandardScaler or MinMaxScaler.\n",
      "  % self.max_iter, ConvergenceWarning)\n",
      "/opt/conda/lib/python3.6/site-packages/sklearn/svm/base.py:244: ConvergenceWarning: Solver terminated early (max_iter=50).  Consider pre-processing your data with StandardScaler or MinMaxScaler.\n",
      "  % self.max_iter, ConvergenceWarning)\n",
      "/opt/conda/lib/python3.6/site-packages/sklearn/svm/base.py:244: ConvergenceWarning: Solver terminated early (max_iter=60).  Consider pre-processing your data with StandardScaler or MinMaxScaler.\n",
      "  % self.max_iter, ConvergenceWarning)\n",
      "/opt/conda/lib/python3.6/site-packages/sklearn/svm/base.py:244: ConvergenceWarning: Solver terminated early (max_iter=70).  Consider pre-processing your data with StandardScaler or MinMaxScaler.\n",
      "  % self.max_iter, ConvergenceWarning)\n",
      "/opt/conda/lib/python3.6/site-packages/sklearn/svm/base.py:244: ConvergenceWarning: Solver terminated early (max_iter=80).  Consider pre-processing your data with StandardScaler or MinMaxScaler.\n",
      "  % self.max_iter, ConvergenceWarning)\n",
      "/opt/conda/lib/python3.6/site-packages/sklearn/svm/base.py:244: ConvergenceWarning: Solver terminated early (max_iter=90).  Consider pre-processing your data with StandardScaler or MinMaxScaler.\n",
      "  % self.max_iter, ConvergenceWarning)\n",
      "/opt/conda/lib/python3.6/site-packages/sklearn/svm/base.py:244: ConvergenceWarning: Solver terminated early (max_iter=0).  Consider pre-processing your data with StandardScaler or MinMaxScaler.\n",
      "  % self.max_iter, ConvergenceWarning)\n",
      "/opt/conda/lib/python3.6/site-packages/sklearn/svm/base.py:244: ConvergenceWarning: Solver terminated early (max_iter=10).  Consider pre-processing your data with StandardScaler or MinMaxScaler.\n",
      "  % self.max_iter, ConvergenceWarning)\n",
      "/opt/conda/lib/python3.6/site-packages/sklearn/svm/base.py:244: ConvergenceWarning: Solver terminated early (max_iter=20).  Consider pre-processing your data with StandardScaler or MinMaxScaler.\n",
      "  % self.max_iter, ConvergenceWarning)\n",
      "/opt/conda/lib/python3.6/site-packages/sklearn/svm/base.py:244: ConvergenceWarning: Solver terminated early (max_iter=30).  Consider pre-processing your data with StandardScaler or MinMaxScaler.\n",
      "  % self.max_iter, ConvergenceWarning)\n",
      "/opt/conda/lib/python3.6/site-packages/sklearn/svm/base.py:244: ConvergenceWarning: Solver terminated early (max_iter=40).  Consider pre-processing your data with StandardScaler or MinMaxScaler.\n",
      "  % self.max_iter, ConvergenceWarning)\n",
      "/opt/conda/lib/python3.6/site-packages/sklearn/svm/base.py:244: ConvergenceWarning: Solver terminated early (max_iter=50).  Consider pre-processing your data with StandardScaler or MinMaxScaler.\n",
      "  % self.max_iter, ConvergenceWarning)\n",
      "/opt/conda/lib/python3.6/site-packages/sklearn/svm/base.py:244: ConvergenceWarning: Solver terminated early (max_iter=60).  Consider pre-processing your data with StandardScaler or MinMaxScaler.\n",
      "  % self.max_iter, ConvergenceWarning)\n",
      "/opt/conda/lib/python3.6/site-packages/sklearn/svm/base.py:244: ConvergenceWarning: Solver terminated early (max_iter=70).  Consider pre-processing your data with StandardScaler or MinMaxScaler.\n",
      "  % self.max_iter, ConvergenceWarning)\n",
      "/opt/conda/lib/python3.6/site-packages/sklearn/svm/base.py:244: ConvergenceWarning: Solver terminated early (max_iter=80).  Consider pre-processing your data with StandardScaler or MinMaxScaler.\n",
      "  % self.max_iter, ConvergenceWarning)\n",
      "/opt/conda/lib/python3.6/site-packages/sklearn/svm/base.py:244: ConvergenceWarning: Solver terminated early (max_iter=90).  Consider pre-processing your data with StandardScaler or MinMaxScaler.\n",
      "  % self.max_iter, ConvergenceWarning)\n",
      "/opt/conda/lib/python3.6/site-packages/sklearn/svm/base.py:244: ConvergenceWarning: Solver terminated early (max_iter=0).  Consider pre-processing your data with StandardScaler or MinMaxScaler.\n",
      "  % self.max_iter, ConvergenceWarning)\n",
      "/opt/conda/lib/python3.6/site-packages/sklearn/svm/base.py:244: ConvergenceWarning: Solver terminated early (max_iter=10).  Consider pre-processing your data with StandardScaler or MinMaxScaler.\n",
      "  % self.max_iter, ConvergenceWarning)\n",
      "/opt/conda/lib/python3.6/site-packages/sklearn/svm/base.py:244: ConvergenceWarning: Solver terminated early (max_iter=20).  Consider pre-processing your data with StandardScaler or MinMaxScaler.\n",
      "  % self.max_iter, ConvergenceWarning)\n",
      "/opt/conda/lib/python3.6/site-packages/sklearn/svm/base.py:244: ConvergenceWarning: Solver terminated early (max_iter=30).  Consider pre-processing your data with StandardScaler or MinMaxScaler.\n",
      "  % self.max_iter, ConvergenceWarning)\n",
      "/opt/conda/lib/python3.6/site-packages/sklearn/svm/base.py:244: ConvergenceWarning: Solver terminated early (max_iter=40).  Consider pre-processing your data with StandardScaler or MinMaxScaler.\n",
      "  % self.max_iter, ConvergenceWarning)\n",
      "/opt/conda/lib/python3.6/site-packages/sklearn/svm/base.py:244: ConvergenceWarning: Solver terminated early (max_iter=50).  Consider pre-processing your data with StandardScaler or MinMaxScaler.\n",
      "  % self.max_iter, ConvergenceWarning)\n",
      "/opt/conda/lib/python3.6/site-packages/sklearn/svm/base.py:244: ConvergenceWarning: Solver terminated early (max_iter=60).  Consider pre-processing your data with StandardScaler or MinMaxScaler.\n",
      "  % self.max_iter, ConvergenceWarning)\n",
      "/opt/conda/lib/python3.6/site-packages/sklearn/svm/base.py:244: ConvergenceWarning: Solver terminated early (max_iter=70).  Consider pre-processing your data with StandardScaler or MinMaxScaler.\n",
      "  % self.max_iter, ConvergenceWarning)\n",
      "/opt/conda/lib/python3.6/site-packages/sklearn/svm/base.py:244: ConvergenceWarning: Solver terminated early (max_iter=80).  Consider pre-processing your data with StandardScaler or MinMaxScaler.\n",
      "  % self.max_iter, ConvergenceWarning)\n",
      "/opt/conda/lib/python3.6/site-packages/sklearn/svm/base.py:244: ConvergenceWarning: Solver terminated early (max_iter=90).  Consider pre-processing your data with StandardScaler or MinMaxScaler.\n",
      "  % self.max_iter, ConvergenceWarning)\n"
     ]
    },
    {
     "ename": "ValueError",
     "evalue": "Input contains NaN, infinity or a value too large for dtype('float64').",
     "output_type": "error",
     "traceback": [
      "\u001b[0;31m\u001b[0m",
      "\u001b[0;31mValueError\u001b[0mTraceback (most recent call last)",
      "\u001b[0;32m<ipython-input-159-2b909094c1c5>\u001b[0m in \u001b[0;36m<module>\u001b[0;34m\u001b[0m\n\u001b[1;32m      2\u001b[0m \u001b[0mscores_std\u001b[0m\u001b[0;34m=\u001b[0m\u001b[0msvm_evaluate\u001b[0m\u001b[0;34m(\u001b[0m\u001b[0mvecs_sgns_std\u001b[0m\u001b[0;34m,\u001b[0m\u001b[0my\u001b[0m\u001b[0;34m)\u001b[0m\u001b[0;34m\u001b[0m\u001b[0;34m\u001b[0m\u001b[0m\n\u001b[1;32m      3\u001b[0m \u001b[0mscores_log\u001b[0m\u001b[0;34m=\u001b[0m\u001b[0msvm_evaluate\u001b[0m\u001b[0;34m(\u001b[0m\u001b[0mvecs_sgns_log\u001b[0m\u001b[0;34m,\u001b[0m\u001b[0my\u001b[0m\u001b[0;34m)\u001b[0m\u001b[0;34m\u001b[0m\u001b[0;34m\u001b[0m\u001b[0m\n\u001b[0;32m----> 4\u001b[0;31m \u001b[0mscores_exp\u001b[0m\u001b[0;34m=\u001b[0m\u001b[0msvm_evaluate\u001b[0m\u001b[0;34m(\u001b[0m\u001b[0mvecs_sgns_exp\u001b[0m\u001b[0;34m,\u001b[0m\u001b[0my\u001b[0m\u001b[0;34m)\u001b[0m\u001b[0;34m\u001b[0m\u001b[0;34m\u001b[0m\u001b[0m\n\u001b[0m\u001b[1;32m      5\u001b[0m \u001b[0mscores_bin\u001b[0m\u001b[0;34m=\u001b[0m\u001b[0msvm_evaluate\u001b[0m\u001b[0;34m(\u001b[0m\u001b[0mvecs_sgns_bin\u001b[0m\u001b[0;34m,\u001b[0m\u001b[0my\u001b[0m\u001b[0;34m)\u001b[0m\u001b[0;34m\u001b[0m\u001b[0;34m\u001b[0m\u001b[0m\n\u001b[1;32m      6\u001b[0m \u001b[0mscores_bimean\u001b[0m\u001b[0;34m=\u001b[0m\u001b[0msvm_evaluate\u001b[0m\u001b[0;34m(\u001b[0m\u001b[0mvecs_sgns_bimean\u001b[0m\u001b[0;34m,\u001b[0m\u001b[0my\u001b[0m\u001b[0;34m)\u001b[0m\u001b[0;34m\u001b[0m\u001b[0;34m\u001b[0m\u001b[0m\n",
      "\u001b[0;32m<ipython-input-158-44b65bac9759>\u001b[0m in \u001b[0;36msvm_evaluate\u001b[0;34m(x_doc_vecs, y)\u001b[0m\n\u001b[1;32m     11\u001b[0m     \u001b[0;32mfor\u001b[0m \u001b[0mi\u001b[0m \u001b[0;32min\u001b[0m \u001b[0mrange\u001b[0m\u001b[0;34m(\u001b[0m\u001b[0;36m10\u001b[0m\u001b[0;34m)\u001b[0m\u001b[0;34m:\u001b[0m\u001b[0;34m\u001b[0m\u001b[0;34m\u001b[0m\u001b[0m\n\u001b[1;32m     12\u001b[0m         \u001b[0msvm_\u001b[0m \u001b[0;34m=\u001b[0m \u001b[0msvm\u001b[0m\u001b[0;34m.\u001b[0m\u001b[0mSVC\u001b[0m\u001b[0;34m(\u001b[0m\u001b[0mgamma\u001b[0m\u001b[0;34m=\u001b[0m\u001b[0;34m'scale'\u001b[0m\u001b[0;34m,\u001b[0m\u001b[0mmax_iter\u001b[0m\u001b[0;34m=\u001b[0m\u001b[0;36m10\u001b[0m\u001b[0;34m*\u001b[0m\u001b[0mi\u001b[0m\u001b[0;34m,\u001b[0m\u001b[0mC\u001b[0m\u001b[0;34m=\u001b[0m\u001b[0;36m1.0\u001b[0m\u001b[0;34m)\u001b[0m\u001b[0;34m\u001b[0m\u001b[0;34m\u001b[0m\u001b[0m\n\u001b[0;32m---> 13\u001b[0;31m         \u001b[0msrc\u001b[0m\u001b[0;34m=\u001b[0m\u001b[0msvm_\u001b[0m\u001b[0;34m.\u001b[0m\u001b[0mfit\u001b[0m\u001b[0;34m(\u001b[0m\u001b[0mx_train\u001b[0m\u001b[0;34m,\u001b[0m \u001b[0my_train\u001b[0m\u001b[0;34m)\u001b[0m\u001b[0;34m\u001b[0m\u001b[0;34m\u001b[0m\u001b[0m\n\u001b[0m\u001b[1;32m     14\u001b[0m         \u001b[0mpred\u001b[0m\u001b[0;34m=\u001b[0m\u001b[0msvm_\u001b[0m\u001b[0;34m.\u001b[0m\u001b[0mpredict\u001b[0m\u001b[0;34m(\u001b[0m\u001b[0mx_test\u001b[0m\u001b[0;34m)\u001b[0m\u001b[0;34m\u001b[0m\u001b[0;34m\u001b[0m\u001b[0m\n\u001b[1;32m     15\u001b[0m         \u001b[0mscores\u001b[0m\u001b[0;34m.\u001b[0m\u001b[0mappend\u001b[0m\u001b[0;34m(\u001b[0m\u001b[0msvm_\u001b[0m\u001b[0;34m.\u001b[0m\u001b[0mscore\u001b[0m\u001b[0;34m(\u001b[0m\u001b[0mx_test\u001b[0m\u001b[0;34m,\u001b[0m\u001b[0my_test\u001b[0m\u001b[0;34m)\u001b[0m\u001b[0;34m)\u001b[0m\u001b[0;34m\u001b[0m\u001b[0;34m\u001b[0m\u001b[0m\n",
      "\u001b[0;32m/opt/conda/lib/python3.6/site-packages/sklearn/svm/base.py\u001b[0m in \u001b[0;36mfit\u001b[0;34m(self, X, y, sample_weight)\u001b[0m\n\u001b[1;32m    147\u001b[0m         X, y = check_X_y(X, y, dtype=np.float64,\n\u001b[1;32m    148\u001b[0m                          \u001b[0morder\u001b[0m\u001b[0;34m=\u001b[0m\u001b[0;34m'C'\u001b[0m\u001b[0;34m,\u001b[0m \u001b[0maccept_sparse\u001b[0m\u001b[0;34m=\u001b[0m\u001b[0;34m'csr'\u001b[0m\u001b[0;34m,\u001b[0m\u001b[0;34m\u001b[0m\u001b[0;34m\u001b[0m\u001b[0m\n\u001b[0;32m--> 149\u001b[0;31m                          accept_large_sparse=False)\n\u001b[0m\u001b[1;32m    150\u001b[0m         \u001b[0my\u001b[0m \u001b[0;34m=\u001b[0m \u001b[0mself\u001b[0m\u001b[0;34m.\u001b[0m\u001b[0m_validate_targets\u001b[0m\u001b[0;34m(\u001b[0m\u001b[0my\u001b[0m\u001b[0;34m)\u001b[0m\u001b[0;34m\u001b[0m\u001b[0;34m\u001b[0m\u001b[0m\n\u001b[1;32m    151\u001b[0m \u001b[0;34m\u001b[0m\u001b[0m\n",
      "\u001b[0;32m/opt/conda/lib/python3.6/site-packages/sklearn/utils/validation.py\u001b[0m in \u001b[0;36mcheck_X_y\u001b[0;34m(X, y, accept_sparse, accept_large_sparse, dtype, order, copy, force_all_finite, ensure_2d, allow_nd, multi_output, ensure_min_samples, ensure_min_features, y_numeric, warn_on_dtype, estimator)\u001b[0m\n\u001b[1;32m    754\u001b[0m                     \u001b[0mensure_min_features\u001b[0m\u001b[0;34m=\u001b[0m\u001b[0mensure_min_features\u001b[0m\u001b[0;34m,\u001b[0m\u001b[0;34m\u001b[0m\u001b[0;34m\u001b[0m\u001b[0m\n\u001b[1;32m    755\u001b[0m                     \u001b[0mwarn_on_dtype\u001b[0m\u001b[0;34m=\u001b[0m\u001b[0mwarn_on_dtype\u001b[0m\u001b[0;34m,\u001b[0m\u001b[0;34m\u001b[0m\u001b[0;34m\u001b[0m\u001b[0m\n\u001b[0;32m--> 756\u001b[0;31m                     estimator=estimator)\n\u001b[0m\u001b[1;32m    757\u001b[0m     \u001b[0;32mif\u001b[0m \u001b[0mmulti_output\u001b[0m\u001b[0;34m:\u001b[0m\u001b[0;34m\u001b[0m\u001b[0;34m\u001b[0m\u001b[0m\n\u001b[1;32m    758\u001b[0m         y = check_array(y, 'csr', force_all_finite=True, ensure_2d=False,\n",
      "\u001b[0;32m/opt/conda/lib/python3.6/site-packages/sklearn/utils/validation.py\u001b[0m in \u001b[0;36mcheck_array\u001b[0;34m(array, accept_sparse, accept_large_sparse, dtype, order, copy, force_all_finite, ensure_2d, allow_nd, ensure_min_samples, ensure_min_features, warn_on_dtype, estimator)\u001b[0m\n\u001b[1;32m    571\u001b[0m         \u001b[0;32mif\u001b[0m \u001b[0mforce_all_finite\u001b[0m\u001b[0;34m:\u001b[0m\u001b[0;34m\u001b[0m\u001b[0;34m\u001b[0m\u001b[0m\n\u001b[1;32m    572\u001b[0m             _assert_all_finite(array,\n\u001b[0;32m--> 573\u001b[0;31m                                allow_nan=force_all_finite == 'allow-nan')\n\u001b[0m\u001b[1;32m    574\u001b[0m \u001b[0;34m\u001b[0m\u001b[0m\n\u001b[1;32m    575\u001b[0m     \u001b[0mshape_repr\u001b[0m \u001b[0;34m=\u001b[0m \u001b[0m_shape_repr\u001b[0m\u001b[0;34m(\u001b[0m\u001b[0marray\u001b[0m\u001b[0;34m.\u001b[0m\u001b[0mshape\u001b[0m\u001b[0;34m)\u001b[0m\u001b[0;34m\u001b[0m\u001b[0;34m\u001b[0m\u001b[0m\n",
      "\u001b[0;32m/opt/conda/lib/python3.6/site-packages/sklearn/utils/validation.py\u001b[0m in \u001b[0;36m_assert_all_finite\u001b[0;34m(X, allow_nan)\u001b[0m\n\u001b[1;32m     54\u001b[0m                 not allow_nan and not np.isfinite(X).all()):\n\u001b[1;32m     55\u001b[0m             \u001b[0mtype_err\u001b[0m \u001b[0;34m=\u001b[0m \u001b[0;34m'infinity'\u001b[0m \u001b[0;32mif\u001b[0m \u001b[0mallow_nan\u001b[0m \u001b[0;32melse\u001b[0m \u001b[0;34m'NaN, infinity'\u001b[0m\u001b[0;34m\u001b[0m\u001b[0;34m\u001b[0m\u001b[0m\n\u001b[0;32m---> 56\u001b[0;31m             \u001b[0;32mraise\u001b[0m \u001b[0mValueError\u001b[0m\u001b[0;34m(\u001b[0m\u001b[0mmsg_err\u001b[0m\u001b[0;34m.\u001b[0m\u001b[0mformat\u001b[0m\u001b[0;34m(\u001b[0m\u001b[0mtype_err\u001b[0m\u001b[0;34m,\u001b[0m \u001b[0mX\u001b[0m\u001b[0;34m.\u001b[0m\u001b[0mdtype\u001b[0m\u001b[0;34m)\u001b[0m\u001b[0;34m)\u001b[0m\u001b[0;34m\u001b[0m\u001b[0;34m\u001b[0m\u001b[0m\n\u001b[0m\u001b[1;32m     57\u001b[0m \u001b[0;34m\u001b[0m\u001b[0m\n\u001b[1;32m     58\u001b[0m \u001b[0;34m\u001b[0m\u001b[0m\n",
      "\u001b[0;31mValueError\u001b[0m: Input contains NaN, infinity or a value too large for dtype('float64')."
     ]
    }
   ],
   "source": [
    "scores_minmax=svm_evaluate(vecs_sgns_minmax,y)\n",
    "scores_std=svm_evaluate(vecs_sgns_std,y)\n",
    "scores_log=svm_evaluate(vecs_sgns_log,y)\n",
    "scores_exp=svm_evaluate(vecs_sgns_exp,y)\n",
    "scores_bin=svm_evaluate(vecs_sgns_bin,y)\n",
    "scores_bimean=svm_evaluate(vecs_sgns_bimean,y)"
   ]
  },
  {
   "cell_type": "code",
   "execution_count": null,
   "metadata": {},
   "outputs": [],
   "source": [
    "scores_minmax=svm_evaluate(vecs_sppmi_minmax,y)\n",
    "scores_std=svm_evaluate(vecs_sppmi_std,y)\n",
    "scores_log=svm_evaluate(vecs_sppmi_log,y)\n",
    "scores_exp=svm_evaluate(vecs_sppmi_exp,y)\n",
    "scores_bin=svm_evaluate(vecs_sppmi_bin,y)\n",
    "scores_bimean=svm_evaluate(vecs_sppmi_bimean,y)"
   ]
  },
  {
   "cell_type": "code",
   "execution_count": null,
   "metadata": {},
   "outputs": [],
   "source": [
    "#### I attempt to use decision tree classification\n",
    "#### the best score I get is from NN\n",
    "#### in decision tree vecs_sppmi performs better than vecs_sgns\n",
    "#### minmax and standard scaled data have better performance here\n",
    "\n",
    "from sklearn import tree\n",
    "\n",
    "def tree_evaluate(x_doc_vecs,y):\n",
    "    x_train, x_test, y_train, y_test = train_test_split(x_doc_vecs,y)\n",
    "    scores=[]\n",
    "    for i in range(15):\n",
    "#         print(max(2*i,1))\n",
    "        dt = tree.DecisionTreeClassifier(max_depth=max(2*i,1))\n",
    "        src=dt.fit(x_train, y_train) \n",
    "        pred=dt.predict(x_test)\n",
    "        scores.append(dt.score(x_test,y_test))\n",
    "    return scores\n",
    "        "
   ]
  },
  {
   "cell_type": "code",
   "execution_count": null,
   "metadata": {},
   "outputs": [],
   "source": [
    "scores_minmax=tree_evaluate(vecs_sgns_minmax,y)\n",
    "# scores_std=tree_evaluate(vecs_sgns_std,y)\n",
    "scores_log=tree_evaluate(vecs_sgns_log,y)\n",
    "# scores_exp=tree_evaluate(vecs_sgns_exp,y)\n",
    "scores_bin=tree_evaluate(vecs_sgns_bin,y)\n",
    "scores_bimean=tree_evaluate(vecs_sgns_bimean,y)"
   ]
  },
  {
   "cell_type": "code",
   "execution_count": null,
   "metadata": {},
   "outputs": [],
   "source": [
    "print(scores_minmax,scores_log,scores_bin,scores_bimean)"
   ]
  },
  {
   "cell_type": "code",
   "execution_count": null,
   "metadata": {},
   "outputs": [],
   "source": [
    "# scores_minmax=tree_evaluate(vecs_sppmi_minmax,y)\n",
    "scores_std=tree_evaluate(vecs_sppmi_std,y)\n",
    "# scores_log=tree_evaluate(vecs_sppmi_log,y)\n",
    "# scores_exp=tree_evaluate(vecs_sppmi_exp,y)\n",
    "scores_bin=tree_evaluate(vecs_sppmi_bin,y)\n",
    "scores_bimean=tree_evaluate(vecs_sppmi_bimean,y)"
   ]
  },
  {
   "cell_type": "code",
   "execution_count": null,
   "metadata": {},
   "outputs": [],
   "source": [
    "print(scores_std,scores_bin,scores_bimean)"
   ]
  },
  {
   "cell_type": "code",
   "execution_count": null,
   "metadata": {},
   "outputs": [],
   "source": []
  }
 ],
 "metadata": {
  "colab": {
   "collapsed_sections": [],
   "name": "Homework5.ipynb",
   "provenance": [],
   "version": "0.3.2"
  },
  "kernelspec": {
   "display_name": "Python 3",
   "language": "python",
   "name": "python3"
  },
  "language_info": {
   "codemirror_mode": {
    "name": "ipython",
    "version": 3
   },
   "file_extension": ".py",
   "mimetype": "text/x-python",
   "name": "python",
   "nbconvert_exporter": "python",
   "pygments_lexer": "ipython3",
   "version": "3.6.7"
  }
 },
 "nbformat": 4,
 "nbformat_minor": 1
}
